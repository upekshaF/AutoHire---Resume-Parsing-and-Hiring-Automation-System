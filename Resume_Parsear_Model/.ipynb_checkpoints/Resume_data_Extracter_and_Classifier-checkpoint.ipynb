{
 "cells": [
  {
   "cell_type": "code",
   "execution_count": 1,
   "id": "527f2e3b-baaa-428f-89f3-355dd0dd48e3",
   "metadata": {},
   "outputs": [
    {
     "name": "stdout",
     "output_type": "stream",
     "text": [
      "Requirement already satisfied: tika in c:\\users\\hp\\appdata\\local\\programs\\python\\python311\\lib\\site-packages (2.6.0)\n",
      "Requirement already satisfied: setuptools in c:\\users\\hp\\appdata\\local\\programs\\python\\python311\\lib\\site-packages (from tika) (65.5.0)\n",
      "Requirement already satisfied: requests in c:\\users\\hp\\appdata\\local\\programs\\python\\python311\\lib\\site-packages (from tika) (2.31.0)\n",
      "Requirement already satisfied: charset-normalizer<4,>=2 in c:\\users\\hp\\appdata\\local\\programs\\python\\python311\\lib\\site-packages (from requests->tika) (3.3.1)\n",
      "Requirement already satisfied: idna<4,>=2.5 in c:\\users\\hp\\appdata\\local\\programs\\python\\python311\\lib\\site-packages (from requests->tika) (3.4)\n",
      "Requirement already satisfied: urllib3<3,>=1.21.1 in c:\\users\\hp\\appdata\\local\\programs\\python\\python311\\lib\\site-packages (from requests->tika) (2.0.7)\n",
      "Requirement already satisfied: certifi>=2017.4.17 in c:\\users\\hp\\appdata\\local\\programs\\python\\python311\\lib\\site-packages (from requests->tika) (2023.7.22)\n"
     ]
    }
   ],
   "source": [
    "\n",
    "\n",
    "!pip install tika\n"
   ]
  },
  {
   "cell_type": "code",
   "execution_count": 2,
   "id": "11838937-3af8-4f4e-bcbf-ecbaf7780ed1",
   "metadata": {},
   "outputs": [
    {
     "name": "stderr",
     "output_type": "stream",
     "text": [
      "2024-03-25 22:22:41,522 [MainThread  ] [WARNI]  Failed to see startup log message; retrying...\n",
      "2024-03-25 22:22:46,526 [MainThread  ] [WARNI]  Failed to see startup log message; retrying...\n"
     ]
    },
    {
     "name": "stdout",
     "output_type": "stream",
     "text": [
      "\n",
      "\n",
      "\n",
      "\n",
      "\n",
      "\n",
      "\n",
      "\n",
      "\n",
      "\n",
      "\n",
      "\n",
      "\n",
      "\n",
      "\n",
      "\n",
      "\n",
      "\n",
      "\n",
      "\n",
      "\n",
      "\n",
      "\n",
      "\n",
      "\n",
      "\n",
      "\n",
      "\n",
      "\n",
      "\n",
      "\n",
      "\n",
      "\n",
      "\n",
      "\n",
      "Document2\n",
      "\n",
      "\n",
      "JOSEPH PERERA \n",
      "SYSTEM ENGINEER \n",
      "\n",
      "0716263003 \n",
      "JOSEPHJUSE@GMAIL.COM \n",
      "\n",
      "NO 1, BALFOUR ROAD, NEGOMBO \n",
      " \n",
      "\n",
      "PROFILE \n",
      " \n",
      "\n",
      "I am an IT Systems Engineer specializing in Microsoft Server, VMware, pfSense, Kaspersky, Zimbra, and IT \n",
      "management for mid-sized and large clients. I have extensive experience overseeing the development, \n",
      "implementation, and management of information technology systems that improve accessibility and \n",
      "resolve networking issues. This experience has helped me develop a range of relevant skills, including an \n",
      "in-depth knowledge of Linux and Azure server architecture, confident project leadership, and familiarity \n",
      "with a range of technological applications proficient in the usage of Microsoft Visio as tools for technical \n",
      "presentation and documentation. I have extensive experience in planning, implementation, configuring, \n",
      "testing, and troubleshooting networking systems. I am competent in handling escalating problems. Being \n",
      "an effective systems administrator requires mastery of such skills, and I am dedicated to applying them \n",
      "to the next position I hold. \n",
      " \n",
      "\n",
      "SKILLS & ABILITIES \n",
      " \n",
      "\n",
      "Proven working experience in installing, configuring and troubleshooting UNIX/Linux based environments. \n",
      "Proven ability to work under pressure and to meet deadlines. Able to work as part of a team, and work \n",
      "shifts, evenings and weekends. Able to present & negotiate at all levels in a non-technical manner. \n",
      "Understanding of Change, incident and problem management. Constantly focused on improving customer \n",
      "service through improved infrastructure management. Implementation of Azure Services, Cloud \n",
      "Migration and Implementation. Implementation of Office 365 Solutions (Hybrid Deployments, Mailbox \n",
      "migration from on premises to Cloud). Installation, Configuration and Troubleshooting of Windows server \n",
      "2003/2008/2012/2016 based Active Directory infrastructure. \n",
      "\n",
      " \n",
      "\n",
      "EXPERIENCE \n",
      " \n",
      "\n",
      "2014 – present  IT Systems Engineer \n",
      "D. Samson Industries (Pvt) Ltd \n",
      "\n",
      "Presenting reports to senior management, providing end-user training and documentation, and ensuring \n",
      "the maintenance and management of a critical Windows-based server environment. I keep antivirus levels \n",
      "up to date across all company machines and actively manage Active Directory and IT user accounts. My \n",
      "duties also involve managing and monitoring backups in multiple locations, providing maintenance \n",
      "support and break-fix solutions for eight contracts, and adhering to documented processes such as \n",
      "implementing change control procedures. I regularly liaise with IT Service and Senior Managers, \n",
      "troubleshoot technical problems, and implement system upgrades for workstations and servers. \n",
      "Furthermore, I handle the purchasing of IT equipment and software within agreed budgets and support a \n",
      "multi-location IT infrastructure for several hundred users. My role requires fast and accurate \n",
      "troubleshooting, asset management, and overseeing repair logistics. I am responsible for developing and \n",
      "implementing network security by following advanced security standards and protocols, assessing \n",
      "vulnerabilities, and managing daily firewall administration to ensure network integrity and security. \n",
      "\n",
      "\n",
      "\n",
      "2010 – 2014 System & Network Junior Engineer  \n",
      "People’s Bank Head Office \n",
      "\n",
      "As an IT professional, I specialize in configuring and maintaining core banking, UNIX, and Linux systems, \n",
      "along with managing a Kaspersky Lab server for 500 clients. I'm skilled in setting up and troubleshooting \n",
      "Internet and Zimbra email services, identifying technical issues, and implementing solutions. My expertise \n",
      "includes server OS, security, remote access, and proficiency with various firewalls and proxies (Cyberoam, \n",
      "FortiGate, pfSense, ClearOS, CentOS). Additionally, I handle network cabling, repair, and maintenance of \n",
      "CCTV systems, and provide comprehensive help desk support via phone and on-site visits. \n",
      " \n",
      "\n",
      "EDUCATION \n",
      " \n",
      "\n",
      "BSc(Hons) in Network Technology \n",
      "National Vocational Training Institute, Ratmalana \n",
      "\n",
      "Higher National Diploma in BCS  \n",
      "E Soft Negombo Branch \n",
      " \n",
      "Microsoft Certified Solutions Associate – 2012/2016 \n",
      " \n",
      "Microsoft Certified Solutions Expert -2012/2016 \n",
      " \n",
      "Associate VMware Data Center Virtualization (1V0-21.20) \n",
      " \n",
      "Associate VMware Network Virtualization (1V0-41.20) \n",
      "Turnkey IT Campus-Colombo 03 \n",
      " \n",
      "\n",
      "REFEREES \n",
      " \n",
      "\n",
      "Mr. Dhammika Dasa – Chief IT Manager, People’s Bank Head Office, Colombo 02 \n",
      "Tel No – 072 910 4846 \n",
      "\n",
      "Mr. Nuwan Sanjaya – Group IT Manager, D. Samson Industries (Pvt) Ltd, Colombo 02 \n",
      "Tel No – 078 451 2471 \n",
      "\n",
      " \n",
      "\n",
      " \n",
      "\n",
      "\n",
      "\n"
     ]
    }
   ],
   "source": [
    "from tika import parser\n",
    "file =r'test2.pdf'\n",
    "file_data = parser.from_file(file)\n",
    "text = file_data['content']\n",
    "print(text)\n",
    "\n"
   ]
  },
  {
   "cell_type": "code",
   "execution_count": 3,
   "id": "bd2c4e93-c223-403b-b0ec-7c8165b86d8f",
   "metadata": {},
   "outputs": [],
   "source": [
    "parsed_content = {}\n"
   ]
  },
  {
   "cell_type": "markdown",
   "id": "650085ad-0d46-4a7a-84aa-b8e840469857",
   "metadata": {},
   "source": [
    "//Search for Email"
   ]
  },
  {
   "cell_type": "code",
   "execution_count": 4,
   "id": "a39ff16b-a77e-4eea-8212-f96ba6ea764a",
   "metadata": {},
   "outputs": [
    {
     "name": "stdout",
     "output_type": "stream",
     "text": [
      "['JOSEPHJUSE@GMAIL.COM']\n"
     ]
    }
   ],
   "source": [
    "import re\n",
    "def get_email_addresses(string):\n",
    "    r = re.compile(r'[\\w\\.-]+@[\\w\\.-]+')\n",
    "    return r.findall(string)\n",
    "\n",
    "email = get_email_addresses(text)\n",
    "print(email)\n",
    "parsed_content['E-mail'] = email"
   ]
  },
  {
   "cell_type": "code",
   "execution_count": 5,
   "id": "739ed13d-4e43-4b5c-b53d-4b6707d3020d",
   "metadata": {},
   "outputs": [
    {
     "name": "stdout",
     "output_type": "stream",
     "text": [
      "['JOSEPHJUSE@GMAIL.COM']\n"
     ]
    }
   ],
   "source": [
    "#Search the top 10 lines to extract the cv\n",
    "import re\n",
    "\n",
    "def get_email_addresses_top_area(string, max_lines=60):\n",
    "    # Extract only the top area of the document\n",
    "    lines = string.split('\\n')[:max_lines]\n",
    "    top_area_text = ' '.join(lines)\n",
    "\n",
    "    # Find standalone email addresses in the top area\n",
    "    r = re.compile(r'[\\w\\.-]+@[\\w\\.-]+')\n",
    "    email_addresses = r.findall(top_area_text)\n",
    "\n",
    "    return email_addresses\n",
    "\n",
    "email = get_email_addresses_top_area(text)\n",
    "print(email)\n",
    "parsed_content['E-mail'] = email\n",
    "\n"
   ]
  },
  {
   "cell_type": "markdown",
   "id": "6988c393-8102-4298-85cf-147d7fb977a7",
   "metadata": {},
   "source": [
    "//Search for Phone Number"
   ]
  },
  {
   "cell_type": "code",
   "execution_count": 6,
   "id": "02686047-b203-4585-8b2a-5e29c30c2fbc",
   "metadata": {},
   "outputs": [
    {
     "name": "stdout",
     "output_type": "stream",
     "text": [
      "['0716263003', '0729104846', '0784512471']\n"
     ]
    }
   ],
   "source": [
    "\n",
    "# //Only extract phone numbers with 10 digits\n",
    "import re\n",
    "\n",
    "def get_phone_numbers(string):\n",
    "    r = re.compile(r'(\\d{3}[-\\.\\s]??\\d{3}[-\\.\\s]??\\d{4}|\\(\\d{3}\\)\\s*\\d{3}[-\\.\\s]??\\d{4}|\\d{3}[-\\.\\s]??\\d{4})')\n",
    "    phone_numbers = r.findall(string)\n",
    "    valid_phone_numbers = [re.sub(r'\\D', '', num) for num in phone_numbers if len(re.sub(r'\\D', '', num)) == 10]\n",
    "    return valid_phone_numbers\n",
    "\n",
    "phone_numbers = get_phone_numbers(text)\n",
    "\n",
    "if phone_numbers:\n",
    "    print(phone_numbers)\n",
    "    parsed_content['Phone number'] = phone_numbers\n"
   ]
  },
  {
   "cell_type": "code",
   "execution_count": 7,
   "id": "b1f912d6-079e-4bcf-a91a-4fbc28af5d3c",
   "metadata": {},
   "outputs": [
    {
     "name": "stdout",
     "output_type": "stream",
     "text": [
      "['0716263003']\n"
     ]
    }
   ],
   "source": [
    "#only search the top area of the document\n",
    "import re\n",
    "\n",
    "def get_mobile_numbers(string):\n",
    "    # Define the top area criteria, for example, the first 500 characters\n",
    "    top_area = string[:500]\n",
    "\n",
    "    # Use regular expression to extract phone numbers\n",
    "    r = re.compile(r'(\\d{3}[-\\.\\s]??\\d{3}[-\\.\\s]??\\d{4}|\\(\\d{3}\\)\\s*\\d{3}[-\\.\\s]??\\d{4}|\\d{3}[-\\.\\s]??\\d{4})')\n",
    "    phone_numbers = r.findall(top_area)\n",
    "\n",
    "    # Filter and clean the phone numbers to get only valid mobile numbers with 10 digits\n",
    "    valid_mobile_numbers = [re.sub(r'\\D', '', num) for num in phone_numbers if len(re.sub(r'\\D', '', num)) == 10]\n",
    "\n",
    "    return valid_mobile_numbers\n",
    "\n",
    "\n",
    "mobile_numbers = get_mobile_numbers(text)\n",
    "\n",
    "if mobile_numbers:\n",
    "    print(mobile_numbers)\n",
    "    # Update parsed_content with mobile numbers\n",
    "    parsed_content['Mobile Numbers'] = mobile_numbers\n"
   ]
  },
  {
   "cell_type": "markdown",
   "id": "ff13dbfd-062d-45ec-8cb7-774ac7e86d70",
   "metadata": {},
   "source": [
    "//Search Names"
   ]
  },
  {
   "cell_type": "code",
   "execution_count": 8,
   "id": "f25ec447-7f37-4963-9684-d26eba626e9b",
   "metadata": {},
   "outputs": [
    {
     "name": "stdout",
     "output_type": "stream",
     "text": [
      "JOSEPH PERERA\n"
     ]
    }
   ],
   "source": [
    "import spacy\n",
    "nlp = spacy.load('en_core_web_sm')\n",
    "from spacy.matcher import Matcher\n",
    "matcher = Matcher(nlp.vocab)\n",
    "\n",
    "def extract_name(text):\n",
    "   nlp_text = nlp(text)\n",
    "  \n",
    "   # First name and Last name are always Proper Nouns\n",
    "   pattern = [{'POS': 'PROPN'}, {'POS': 'PROPN'}]\n",
    "  \n",
    "   matcher.add('NAME', [pattern], on_match = None)\n",
    "  \n",
    "   matches = matcher(nlp_text)\n",
    "  \n",
    "   for match_id, start, end in matches:\n",
    "       span = nlp_text[start:end]\n",
    "       return span.text\n",
    "\n",
    "name = extract_name(text)\n",
    "print(name)\n",
    "parsed_content['Name'] =  name"
   ]
  },
  {
   "cell_type": "code",
   "execution_count": null,
   "id": "eee22ff1-7abb-47cd-9060-98f1f33e8143",
   "metadata": {},
   "outputs": [],
   "source": []
  },
  {
   "cell_type": "code",
   "execution_count": 9,
   "id": "6ea8877e-640f-4b48-8ce4-8ce731303dd1",
   "metadata": {},
   "outputs": [],
   "source": [
    "Keywords = [\"education\",\n",
    "            \"summary\",\n",
    "            \"accomplishments\",\n",
    "            \"executive profile\",\n",
    "            \"professional profile\",\n",
    "            \"personal profile\",\n",
    "            \"work background\",\n",
    "            \"academic profile\",\n",
    "            \"other activities\",\n",
    "            \"⁠Educational Qualification\"\n",
    "            \"qualifications\",\n",
    "            \"experience\",\n",
    "            \"interests\",\n",
    "            \"skills\",\n",
    "            \"achievements\",\n",
    "            \"publications\",\n",
    "            \"publication\",\n",
    "            \"certifications\",\n",
    "            \"workshops\",\n",
    "            \"projects\",\n",
    "            \"internships\",\n",
    "            \"trainings\",\n",
    "            \"hobbies\",\n",
    "            \"overview\",\n",
    "            \"objective\",\n",
    "            \"position of responsibility\",\n",
    "            \"jobs\",\n",
    "            \"⁠University\",\n",
    "            \"institute\",\n",
    "            \"School\",\n",
    "            \"years\"\n",
    "           ]"
   ]
  },
  {
   "cell_type": "code",
   "execution_count": 10,
   "id": "b18538a6-33fc-48d0-9263-0ec3b06dba97",
   "metadata": {},
   "outputs": [
    {
     "name": "stdout",
     "output_type": "stream",
     "text": [
      "                                   document2   joseph perera  system engineer   0716263003  josephjuse@gmail.com   no 1, balfour road, negombo     profile     i am an it systems engineer specializing in microsoft server, vmware, pfsense, kaspersky, zimbra, and it  management for mid-sized and large clients. i have extensive experience overseeing the development,  implementation, and management of information technology systems that improve accessibility and  resolve networking issues. this experience has helped me develop a range of relevant skills, including an  in-depth knowledge of linux and azure server architecture, confident project leadership, and familiarity  with a range of technological applications proficient in the usage of microsoft visio as tools for technical  presentation and documentation. i have extensive experience in planning, implementation, configuring,  testing, and troubleshooting networking systems. i am competent in handling escalating problems. being  an effective systems administrator requires mastery of such skills, and i am dedicated to applying them  to the next position i hold.     skills & abilities     proven working experience in installing, configuring and troubleshooting unix/linux based environments.  proven ability to work under pressure and to meet deadlines. able to work as part of a team, and work  shifts, evenings and weekends. able to present & negotiate at all levels in a non-technical manner.  understanding of change, incident and problem management. constantly focused on improving customer  service through improved infrastructure management. implementation of azure services, cloud  migration and implementation. implementation of office 365 solutions (hybrid deployments, mailbox  migration from on premises to cloud). installation, configuration and troubleshooting of windows server  2003/2008/2012/2016 based active directory infrastructure.      experience     2014 – present  it systems engineer  d. samson industries (pvt) ltd   presenting reports to senior management, providing end-user training and documentation, and ensuring  the maintenance and management of a critical windows-based server environment. i keep antivirus levels  up to date across all company machines and actively manage active directory and it user accounts. my  duties also involve managing and monitoring backups in multiple locations, providing maintenance  support and break-fix solutions for eight contracts, and adhering to documented processes such as  implementing change control procedures. i regularly liaise with it service and senior managers,  troubleshoot technical problems, and implement system upgrades for workstations and servers.  furthermore, i handle the purchasing of it equipment and software within agreed budgets and support a  multi-location it infrastructure for several hundred users. my role requires fast and accurate  troubleshooting, asset management, and overseeing repair logistics. i am responsible for developing and  implementing network security by following advanced security standards and protocols, assessing  vulnerabilities, and managing daily firewall administration to ensure network integrity and security.     2010 – 2014 system & network junior engineer   people’s bank head office   as an it professional, i specialize in configuring and maintaining core banking, unix, and linux systems,  along with managing a kaspersky lab server for 500 clients. i'm skilled in setting up and troubleshooting  internet and zimbra email services, identifying technical issues, and implementing solutions. my expertise  includes server os, security, remote access, and proficiency with various firewalls and proxies (cyberoam,  fortigate, pfsense, clearos, centos). additionally, i handle network cabling, repair, and maintenance of  cctv systems, and provide comprehensive help desk support via phone and on-site visits.     education     bsc(hons) in network technology  national vocational training institute, ratmalana   higher national diploma in bcs   e soft negombo branch    microsoft certified solutions associate – 2012/2016    microsoft certified solutions expert -2012/2016    associate vmware data center virtualization (1v0-21.20)    associate vmware network virtualization (1v0-41.20)  turnkey it campus-colombo 03     referees     mr. dhammika dasa – chief it manager, people’s bank head office, colombo 02  tel no – 072 910 4846   mr. nuwan sanjaya – group it manager, d. samson industries (pvt) ltd, colombo 02  tel no – 078 451 2471          \n"
     ]
    }
   ],
   "source": [
    "text = text.replace(\"\\n\",\" \")\n",
    "text = text.replace(\"[^a-zA-Z0-9]\", \" \");  \n",
    "re.sub('\\W+','', text)\n",
    "text = text.lower()\n",
    "print(text)"
   ]
  },
  {
   "cell_type": "code",
   "execution_count": 11,
   "id": "01bdf981-f197-4462-824d-2e4daac8c657",
   "metadata": {},
   "outputs": [],
   "source": [
    "content = {}\n",
    "indices = []\n",
    "keys = []\n",
    "for key in Keywords:\n",
    "    try:\n",
    "        content[key] = text[text.index(key) + len(key):]\n",
    "        indices.append(text.index(key))\n",
    "        keys.append(key)\n",
    "    except:\n",
    "        pass"
   ]
  },
  {
   "cell_type": "code",
   "execution_count": 12,
   "id": "b33da878-53dc-4038-ba5d-2569661096b3",
   "metadata": {},
   "outputs": [
    {
     "data": {
      "text/plain": [
       "['experience', 'skills', 'education', 'institute']"
      ]
     },
     "execution_count": 12,
     "metadata": {},
     "output_type": "execute_result"
    }
   ],
   "source": [
    "#Sorting the indices\n",
    "zipped_lists = zip(indices, keys)\n",
    "sorted_pairs = sorted(zipped_lists)\n",
    "sorted_pairs\n",
    "\n",
    "tuples = zip(*sorted_pairs)\n",
    "indices, keys = [ list(tuple) for tuple in  tuples]\n",
    "keys"
   ]
  },
  {
   "cell_type": "code",
   "execution_count": 13,
   "id": "e649be58-2cf4-4938-a72b-062da07f60c1",
   "metadata": {},
   "outputs": [],
   "source": [
    "\n",
    "content = []\n",
    "for idx in range(len(indices)):\n",
    "    if idx != len(indices)-1:\n",
    "        content.append(text[indices[idx]: indices[idx+1]])\n",
    "    else:\n",
    "        content.append(text[indices[idx]: ])"
   ]
  },
  {
   "cell_type": "code",
   "execution_count": 14,
   "id": "1d812001-b9f1-4fd6-af39-294dee050af9",
   "metadata": {},
   "outputs": [],
   "source": [
    "for i in range(len(indices)):\n",
    "    parsed_content[keys[i]] = content[i]   "
   ]
  },
  {
   "cell_type": "code",
   "execution_count": 15,
   "id": "029d890d-03ca-4afc-836e-2c111c10702c",
   "metadata": {},
   "outputs": [
    {
     "data": {
      "text/plain": [
       "{'E-mail': ['JOSEPHJUSE@GMAIL.COM'],\n",
       " 'Phone number': ['0716263003', '0729104846', '0784512471'],\n",
       " 'Mobile Numbers': ['0716263003'],\n",
       " 'Name': 'JOSEPH PERERA',\n",
       " 'experience': 'experience overseeing the development,  implementation, and management of information technology systems that improve accessibility and  resolve networking issues. this experience has helped me develop a range of relevant ',\n",
       " 'skills': \"skills, including an  in-depth knowledge of linux and azure server architecture, confident project leadership, and familiarity  with a range of technological applications proficient in the usage of microsoft visio as tools for technical  presentation and documentation. i have extensive experience in planning, implementation, configuring,  testing, and troubleshooting networking systems. i am competent in handling escalating problems. being  an effective systems administrator requires mastery of such skills, and i am dedicated to applying them  to the next position i hold.     skills & abilities     proven working experience in installing, configuring and troubleshooting unix/linux based environments.  proven ability to work under pressure and to meet deadlines. able to work as part of a team, and work  shifts, evenings and weekends. able to present & negotiate at all levels in a non-technical manner.  understanding of change, incident and problem management. constantly focused on improving customer  service through improved infrastructure management. implementation of azure services, cloud  migration and implementation. implementation of office 365 solutions (hybrid deployments, mailbox  migration from on premises to cloud). installation, configuration and troubleshooting of windows server  2003/2008/2012/2016 based active directory infrastructure.      experience     2014 – present  it systems engineer  d. samson industries (pvt) ltd   presenting reports to senior management, providing end-user training and documentation, and ensuring  the maintenance and management of a critical windows-based server environment. i keep antivirus levels  up to date across all company machines and actively manage active directory and it user accounts. my  duties also involve managing and monitoring backups in multiple locations, providing maintenance  support and break-fix solutions for eight contracts, and adhering to documented processes such as  implementing change control procedures. i regularly liaise with it service and senior managers,  troubleshoot technical problems, and implement system upgrades for workstations and servers.  furthermore, i handle the purchasing of it equipment and software within agreed budgets and support a  multi-location it infrastructure for several hundred users. my role requires fast and accurate  troubleshooting, asset management, and overseeing repair logistics. i am responsible for developing and  implementing network security by following advanced security standards and protocols, assessing  vulnerabilities, and managing daily firewall administration to ensure network integrity and security.     2010 – 2014 system & network junior engineer   people’s bank head office   as an it professional, i specialize in configuring and maintaining core banking, unix, and linux systems,  along with managing a kaspersky lab server for 500 clients. i'm skilled in setting up and troubleshooting  internet and zimbra email services, identifying technical issues, and implementing solutions. my expertise  includes server os, security, remote access, and proficiency with various firewalls and proxies (cyberoam,  fortigate, pfsense, clearos, centos). additionally, i handle network cabling, repair, and maintenance of  cctv systems, and provide comprehensive help desk support via phone and on-site visits.     \",\n",
       " 'education': 'education     bsc(hons) in network technology  national vocational training ',\n",
       " 'institute': 'institute, ratmalana   higher national diploma in bcs   e soft negombo branch    microsoft certified solutions associate – 2012/2016    microsoft certified solutions expert -2012/2016    associate vmware data center virtualization (1v0-21.20)    associate vmware network virtualization (1v0-41.20)  turnkey it campus-colombo 03     referees     mr. dhammika dasa – chief it manager, people’s bank head office, colombo 02  tel no – 072 910 4846   mr. nuwan sanjaya – group it manager, d. samson industries (pvt) ltd, colombo 02  tel no – 078 451 2471          '}"
      ]
     },
     "execution_count": 15,
     "metadata": {},
     "output_type": "execute_result"
    }
   ],
   "source": [
    "#Displayi\n",
    "parsed_content"
   ]
  },
  {
   "cell_type": "code",
   "execution_count": 28,
   "id": "227ca460-9a1a-4c06-96a7-133716a81d92",
   "metadata": {},
   "outputs": [
    {
     "name": "stdout",
     "output_type": "stream",
     "text": [
      "            Field                                              Value\n",
      "0          E-mail                             [JOSEPHJUSE@GMAIL.COM]\n",
      "1    Phone number               [0716263003, 0729104846, 0784512471]\n",
      "2  Mobile Numbers                                       [0716263003]\n",
      "3            Name                                      JOSEPH PERERA\n",
      "4      experience  experience overseeing the development,  implem...\n",
      "5          skills  skills, including an  in-depth knowledge of li...\n",
      "6       education  education     bsc(hons) in network technology ...\n",
      "7       institute  institute, ratmalana   higher national diploma...\n"
     ]
    }
   ],
   "source": [
    "df = pd.DataFrame(parsed_content.items(), columns=['Field', 'Value'])\n",
    "\n",
    "# Display DataFrame as a table\n",
    "print(df)"
   ]
  },
  {
   "cell_type": "code",
   "execution_count": 16,
   "id": "f00af55b-6310-42b0-b311-f4d37b4fe5bc",
   "metadata": {},
   "outputs": [],
   "source": [
    "# converting to json format\n",
    "\n",
    "import json\n",
    "with open(\"Parsed_Resume.json\", \"w\") as outfile:\n",
    "    json.dump(parsed_content, outfile)\n",
    "\n"
   ]
  },
  {
   "cell_type": "markdown",
   "id": "80a8b560-b6dc-474e-a1a5-0ee9935eeaf1",
   "metadata": {},
   "source": [
    "points assign"
   ]
  },
  {
   "cell_type": "code",
   "execution_count": 34,
   "id": "d3955aa9-8240-4128-9d4e-be2044cbc3e7",
   "metadata": {},
   "outputs": [
    {
     "name": "stdout",
     "output_type": "stream",
     "text": [
      "Total Points: 10\n"
     ]
    }
   ],
   "source": [
    "#chck if these keywords exixst and if there is we assign  points\n",
    "\n",
    "def check_skills(parsed_content):\n",
    "    if 'skills' in parsed_content:\n",
    "        return 5\n",
    "    return 0\n",
    "\n",
    "def check_education(parsed_content):\n",
    "    if 'education' in parsed_content:\n",
    "        return 5\n",
    "    return 0\n",
    "\n",
    "def check_email(parsed_content):\n",
    "    if 'email' in parsed_content:\n",
    "        return 5\n",
    "    return 0\n",
    "\n",
    "def check_telephone(parsed_content):\n",
    "    if 'telephone' in parsed_content:\n",
    "        return 5\n",
    "    return 0\n",
    "\n",
    "def calculate_points(parsed_content):\n",
    "    total_points = 0\n",
    "    total_points += check_skills(parsed_content)\n",
    "    total_points += check_education(parsed_content)\n",
    "    total_points += check_email(parsed_content)\n",
    "    total_points += check_telephone(parsed_content)\n",
    "    return total_points\n",
    "\n",
    "\n",
    "\n",
    "# Calculate points\n",
    "points = calculate_points(parsed_content)\n",
    "print(\"Total Points:\", points)\n"
   ]
  },
  {
   "cell_type": "code",
   "execution_count": 17,
   "id": "2f30626e-f31c-48ed-9de8-3e89fce4a083",
   "metadata": {},
   "outputs": [
    {
     "name": "stdout",
     "output_type": "stream",
     "text": [
      "{\n",
      "    \"E-mail\": [\n",
      "        \"JOSEPHJUSE@GMAIL.COM\"\n",
      "    ],\n",
      "    \"Phone number\": [\n",
      "        \"0716263003\",\n",
      "        \"0729104846\",\n",
      "        \"0784512471\"\n",
      "    ],\n",
      "    \"Mobile Numbers\": [\n",
      "        \"0716263003\"\n",
      "    ],\n",
      "    \"Name\": \"JOSEPH PERERA\",\n",
      "    \"experience\": \"experience overseeing the development,  implementation, and management of information technology systems that improve accessibility and  resolve networking issues. this experience has helped me develop a range of relevant \",\n",
      "    \"skills\": \"skills, including an  in-depth knowledge of linux and azure server architecture, confident project leadership, and familiarity  with a range of technological applications proficient in the usage of microsoft visio as tools for technical  presentation and documentation. i have extensive experience in planning, implementation, configuring,  testing, and troubleshooting networking systems. i am competent in handling escalating problems. being  an effective systems administrator requires mastery of such skills, and i am dedicated to applying them  to the next position i hold.     skills & abilities     proven working experience in installing, configuring and troubleshooting unix/linux based environments.  proven ability to work under pressure and to meet deadlines. able to work as part of a team, and work  shifts, evenings and weekends. able to present & negotiate at all levels in a non-technical manner.  understanding of change, incident and problem management. constantly focused on improving customer  service through improved infrastructure management. implementation of azure services, cloud  migration and implementation. implementation of office 365 solutions (hybrid deployments, mailbox  migration from on premises to cloud). installation, configuration and troubleshooting of windows server  2003/2008/2012/2016 based active directory infrastructure.      experience     2014 \\u2013 present  it systems engineer  d. samson industries (pvt) ltd   presenting reports to senior management, providing end-user training and documentation, and ensuring  the maintenance and management of a critical windows-based server environment. i keep antivirus levels  up to date across all company machines and actively manage active directory and it user accounts. my  duties also involve managing and monitoring backups in multiple locations, providing maintenance  support and break-fix solutions for eight contracts, and adhering to documented processes such as  implementing change control procedures. i regularly liaise with it service and senior managers,  troubleshoot technical problems, and implement system upgrades for workstations and servers.  furthermore, i handle the purchasing of it equipment and software within agreed budgets and support a  multi-location it infrastructure for several hundred users. my role requires fast and accurate  troubleshooting, asset management, and overseeing repair logistics. i am responsible for developing and  implementing network security by following advanced security standards and protocols, assessing  vulnerabilities, and managing daily firewall administration to ensure network integrity and security.     2010 \\u2013 2014 system & network junior engineer   people\\u2019s bank head office   as an it professional, i specialize in configuring and maintaining core banking, unix, and linux systems,  along with managing a kaspersky lab server for 500 clients. i'm skilled in setting up and troubleshooting  internet and zimbra email services, identifying technical issues, and implementing solutions. my expertise  includes server os, security, remote access, and proficiency with various firewalls and proxies (cyberoam,  fortigate, pfsense, clearos, centos). additionally, i handle network cabling, repair, and maintenance of  cctv systems, and provide comprehensive help desk support via phone and on-site visits.     \",\n",
      "    \"education\": \"education     bsc(hons) in network technology  national vocational training \",\n",
      "    \"institute\": \"institute, ratmalana   higher national diploma in bcs   e soft negombo branch    microsoft certified solutions associate \\u2013 2012/2016    microsoft certified solutions expert -2012/2016    associate vmware data center virtualization (1v0-21.20)    associate vmware network virtualization (1v0-41.20)  turnkey it campus-colombo 03     referees     mr. dhammika dasa \\u2013 chief it manager, people\\u2019s bank head office, colombo 02  tel no \\u2013 072 910 4846   mr. nuwan sanjaya \\u2013 group it manager, d. samson industries (pvt) ltd, colombo 02  tel no \\u2013 078 451 2471          \"\n",
      "}\n"
     ]
    }
   ],
   "source": [
    "#Display\n",
    "\n",
    "a_file = open(\"Parsed_Resume.json\", \"r\")\n",
    "a_json = json.load(a_file)\n",
    "pretty_json = json.dumps(a_json, indent=4)\n",
    "a_file.close()\n",
    "print(pretty_json)\n",
    "\n"
   ]
  },
  {
   "cell_type": "code",
   "execution_count": 18,
   "id": "33d8d30c-0d76-4b38-b886-d8bee8af0677",
   "metadata": {},
   "outputs": [],
   "source": [
    "import pandas as pd\n"
   ]
  },
  {
   "cell_type": "code",
   "execution_count": null,
   "id": "d1687b24-b66e-4df2-b08d-2a32c1622dd8",
   "metadata": {},
   "outputs": [],
   "source": []
  }
 ],
 "metadata": {
  "kernelspec": {
   "display_name": "Python 3 (ipykernel)",
   "language": "python",
   "name": "python3"
  },
  "language_info": {
   "codemirror_mode": {
    "name": "ipython",
    "version": 3
   },
   "file_extension": ".py",
   "mimetype": "text/x-python",
   "name": "python",
   "nbconvert_exporter": "python",
   "pygments_lexer": "ipython3",
   "version": "3.11.6"
  }
 },
 "nbformat": 4,
 "nbformat_minor": 5
}
