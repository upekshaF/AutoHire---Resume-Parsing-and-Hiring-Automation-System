{
 "cells": [
  {
   "cell_type": "code",
   "execution_count": 95,
   "id": "527f2e3b-baaa-428f-89f3-355dd0dd48e3",
   "metadata": {},
   "outputs": [
    {
     "name": "stdout",
     "output_type": "stream",
     "text": [
      "Requirement already satisfied: tika in /Users/PC/anaconda3/lib/python3.11/site-packages (2.6.0)\r\n",
      "Requirement already satisfied: setuptools in /Users/PC/anaconda3/lib/python3.11/site-packages (from tika) (68.0.0)\r\n",
      "Requirement already satisfied: requests in /Users/PC/anaconda3/lib/python3.11/site-packages (from tika) (2.31.0)\r\n",
      "Requirement already satisfied: charset-normalizer<4,>=2 in /Users/PC/anaconda3/lib/python3.11/site-packages (from requests->tika) (2.0.4)\r\n",
      "Requirement already satisfied: idna<4,>=2.5 in /Users/PC/anaconda3/lib/python3.11/site-packages (from requests->tika) (3.4)\r\n",
      "Requirement already satisfied: urllib3<3,>=1.21.1 in /Users/PC/anaconda3/lib/python3.11/site-packages (from requests->tika) (1.26.16)\r\n",
      "Requirement already satisfied: certifi>=2017.4.17 in /Users/PC/anaconda3/lib/python3.11/site-packages (from requests->tika) (2023.7.22)\r\n"
     ]
    }
   ],
   "source": [
    "!pip install tika"
   ]
  },
  {
   "cell_type": "code",
   "execution_count": 96,
   "id": "11838937-3af8-4f4e-bcbf-ecbaf7780ed1",
   "metadata": {},
   "outputs": [
    {
     "name": "stdout",
     "output_type": "stream",
     "text": [
      "\n",
      "\n",
      "\n",
      "\n",
      "\n",
      "\n",
      "\n",
      "\n",
      "\n",
      "\n",
      "\n",
      "\n",
      "\n",
      "\n",
      "\n",
      "\n",
      "\n",
      "\n",
      "\n",
      "\n",
      "\n",
      "\n",
      "\n",
      "\n",
      "\n",
      "\n",
      "\n",
      "\n",
      "\n",
      "\n",
      "\n",
      "\n",
      "\n",
      "\n",
      "\n",
      "Document2\n",
      "\n",
      "\n",
      "JOSEPH PERERA \n",
      "SYSTEM ENGINEER \n",
      "\n",
      "0716263003 \n",
      "JOSEPHJUSE@GMAIL.COM \n",
      "\n",
      "NO 1, BALFOUR ROAD, NEGOMBO \n",
      " \n",
      "\n",
      "PROFILE \n",
      " \n",
      "\n",
      "I am an IT Systems Engineer specializing in Microsoft Server, VMware, pfSense, Kaspersky, Zimbra, and IT \n",
      "management for mid-sized and large clients. I have extensive experience overseeing the development, \n",
      "implementation, and management of information technology systems that improve accessibility and \n",
      "resolve networking issues. This experience has helped me develop a range of relevant skills, including an \n",
      "in-depth knowledge of Linux and Azure server architecture, confident project leadership, and familiarity \n",
      "with a range of technological applications proficient in the usage of Microsoft Visio as tools for technical \n",
      "presentation and documentation. I have extensive experience in planning, implementation, configuring, \n",
      "testing, and troubleshooting networking systems. I am competent in handling escalating problems. Being \n",
      "an effective systems administrator requires mastery of such skills, and I am dedicated to applying them \n",
      "to the next position I hold. \n",
      " \n",
      "\n",
      "SKILLS & ABILITIES \n",
      " \n",
      "\n",
      "Proven working experience in installing, configuring and troubleshooting UNIX/Linux based environments. \n",
      "Proven ability to work under pressure and to meet deadlines. Able to work as part of a team, and work \n",
      "shifts, evenings and weekends. Able to present & negotiate at all levels in a non-technical manner. \n",
      "Understanding of Change, incident and problem management. Constantly focused on improving customer \n",
      "service through improved infrastructure management. Implementation of Azure Services, Cloud \n",
      "Migration and Implementation. Implementation of Office 365 Solutions (Hybrid Deployments, Mailbox \n",
      "migration from on premises to Cloud). Installation, Configuration and Troubleshooting of Windows server \n",
      "2003/2008/2012/2016 based Active Directory infrastructure. \n",
      "\n",
      " \n",
      "\n",
      "EXPERIENCE \n",
      " \n",
      "\n",
      "2014 – present  IT Systems Engineer \n",
      "D. Samson Industries (Pvt) Ltd \n",
      "\n",
      "Presenting reports to senior management, providing end-user training and documentation, and ensuring \n",
      "the maintenance and management of a critical Windows-based server environment. I keep antivirus levels \n",
      "up to date across all company machines and actively manage Active Directory and IT user accounts. My \n",
      "duties also involve managing and monitoring backups in multiple locations, providing maintenance \n",
      "support and break-fix solutions for eight contracts, and adhering to documented processes such as \n",
      "implementing change control procedures. I regularly liaise with IT Service and Senior Managers, \n",
      "troubleshoot technical problems, and implement system upgrades for workstations and servers. \n",
      "Furthermore, I handle the purchasing of IT equipment and software within agreed budgets and support a \n",
      "multi-location IT infrastructure for several hundred users. My role requires fast and accurate \n",
      "troubleshooting, asset management, and overseeing repair logistics. I am responsible for developing and \n",
      "implementing network security by following advanced security standards and protocols, assessing \n",
      "vulnerabilities, and managing daily firewall administration to ensure network integrity and security. \n",
      "\n",
      "\n",
      "\n",
      "2010 – 2014 System & Network Junior Engineer  \n",
      "People’s Bank Head Office \n",
      "\n",
      "As an IT professional, I specialize in configuring and maintaining core banking, UNIX, and Linux systems, \n",
      "along with managing a Kaspersky Lab server for 500 clients. I'm skilled in setting up and troubleshooting \n",
      "Internet and Zimbra email services, identifying technical issues, and implementing solutions. My expertise \n",
      "includes server OS, security, remote access, and proficiency with various firewalls and proxies (Cyberoam, \n",
      "FortiGate, pfSense, ClearOS, CentOS). Additionally, I handle network cabling, repair, and maintenance of \n",
      "CCTV systems, and provide comprehensive help desk support via phone and on-site visits. \n",
      " \n",
      "\n",
      "EDUCATION \n",
      " \n",
      "\n",
      "BSc(Hons) in Network Technology \n",
      "National Vocational Training Institute, Ratmalana \n",
      "\n",
      "Higher National Diploma in BCS  \n",
      "E Soft Negombo Branch \n",
      " \n",
      "Microsoft Certified Solutions Associate – 2012/2016 \n",
      " \n",
      "Microsoft Certified Solutions Expert -2012/2016 \n",
      " \n",
      "Associate VMware Data Center Virtualization (1V0-21.20) \n",
      " \n",
      "Associate VMware Network Virtualization (1V0-41.20) \n",
      "Turnkey IT Campus-Colombo 03 \n",
      " \n",
      "\n",
      "REFEREES \n",
      " \n",
      "\n",
      "Mr. Dhammika Dasa – Chief IT Manager, People’s Bank Head Office, Colombo 02 \n",
      "Tel No – 072 910 4846 \n",
      "\n",
      "Mr. Nuwan Sanjaya – Group IT Manager, D. Samson Industries (Pvt) Ltd, Colombo 02 \n",
      "Tel No – 078 451 2471 \n",
      "\n",
      " \n",
      "\n",
      " \n",
      "\n",
      "\n",
      "\n"
     ]
    }
   ],
   "source": [
    "from tika import parser\n",
    "file = r'test2.pdf'\n",
    "file_data = parser.from_file(file)\n",
    "text = file_data['content']\n",
    "print(text)"
   ]
  },
  {
   "cell_type": "code",
   "execution_count": 97,
   "id": "bd2c4e93-c223-403b-b0ec-7c8165b86d8f",
   "metadata": {},
   "outputs": [],
   "source": [
    "parsed_content = {}"
   ]
  },
  {
   "cell_type": "markdown",
   "id": "650085ad-0d46-4a7a-84aa-b8e840469857",
   "metadata": {},
   "source": [
    "//Search for Email"
   ]
  },
  {
   "cell_type": "code",
   "execution_count": 98,
   "id": "a39ff16b-a77e-4eea-8212-f96ba6ea764a",
   "metadata": {},
   "outputs": [
    {
     "name": "stdout",
     "output_type": "stream",
     "text": [
      "['JOSEPHJUSE@GMAIL.COM']\n"
     ]
    }
   ],
   "source": [
    "import re\n",
    "def get_email_addresses(string):\n",
    "    r = re.compile(r'[\\w\\.-]+@[\\w\\.-]+')\n",
    "    return r.findall(string)\n",
    "\n",
    "email = get_email_addresses(text)\n",
    "print(email)\n",
    "parsed_content['E-mail'] = email"
   ]
  },
  {
   "cell_type": "code",
   "execution_count": 99,
   "id": "2b3f7205",
   "metadata": {},
   "outputs": [
    {
     "name": "stdout",
     "output_type": "stream",
     "text": [
      "['JOSEPHJUSE@GMAIL.COM']\n"
     ]
    }
   ],
   "source": [
    "#Search the top 10 lines to extract the cv\n",
    "import re\n",
    "\n",
    "def get_email_addresses_top_area(string, max_lines=60):\n",
    "    # Extract only the top area of the document\n",
    "    lines = string.split('\\n')[:max_lines]\n",
    "    top_area_text = ' '.join(lines)\n",
    "\n",
    "    # Find standalone email addresses in the top area\n",
    "    r = re.compile(r'[\\w\\.-]+@[\\w\\.-]+')\n",
    "    email_addresses = r.findall(top_area_text)\n",
    "\n",
    "    return email_addresses\n",
    "\n",
    "email = get_email_addresses_top_area(text)\n",
    "print(email)\n",
    "parsed_content['E-mail'] = email"
   ]
  },
  {
   "cell_type": "markdown",
   "id": "6988c393-8102-4298-85cf-147d7fb977a7",
   "metadata": {},
   "source": [
    "//Search for Phone Number"
   ]
  },
  {
   "cell_type": "code",
   "execution_count": 100,
   "id": "02686047-b203-4585-8b2a-5e29c30c2fbc",
   "metadata": {},
   "outputs": [
    {
     "name": "stdout",
     "output_type": "stream",
     "text": [
      "['0716263003', '0729104846', '0784512471']\n"
     ]
    }
   ],
   "source": [
    "# //Only extract phone numbers with 10 digits\n",
    "import re\n",
    "\n",
    "def get_phone_numbers(string):\n",
    "    r = re.compile(r'(\\d{3}[-\\.\\s]??\\d{3}[-\\.\\s]??\\d{4}|\\(\\d{3}\\)\\s*\\d{3}[-\\.\\s]??\\d{4}|\\d{3}[-\\.\\s]??\\d{4})')\n",
    "    phone_numbers = r.findall(string)\n",
    "    valid_phone_numbers = [re.sub(r'\\D', '', num) for num in phone_numbers if len(re.sub(r'\\D', '', num)) == 10]\n",
    "    return valid_phone_numbers\n",
    "\n",
    "phone_numbers = get_phone_numbers(text)\n",
    "\n",
    "if phone_numbers:\n",
    "    print(phone_numbers)\n",
    "    parsed_content['Phone number'] = phone_numbers"
   ]
  },
  {
   "cell_type": "code",
   "execution_count": 101,
   "id": "142af8f8",
   "metadata": {},
   "outputs": [
    {
     "name": "stdout",
     "output_type": "stream",
     "text": [
      "['0716263003']\n"
     ]
    }
   ],
   "source": [
    "#only search the top area of the document\n",
    "import re\n",
    "\n",
    "def get_mobile_numbers(string):\n",
    "    # Define the top area criteria, for example, the first 500 characters\n",
    "    top_area = string[:500]\n",
    "\n",
    "    # Use regular expression to extract phone numbers\n",
    "    r = re.compile(r'(\\d{3}[-\\.\\s]??\\d{3}[-\\.\\s]??\\d{4}|\\(\\d{3}\\)\\s*\\d{3}[-\\.\\s]??\\d{4}|\\d{3}[-\\.\\s]??\\d{4})')\n",
    "    phone_numbers = r.findall(top_area)\n",
    "\n",
    "    # Filter and clean the phone numbers to get only valid mobile numbers with 10 digits\n",
    "    valid_mobile_numbers = [re.sub(r'\\D', '', num) for num in phone_numbers if len(re.sub(r'\\D', '', num)) == 10]\n",
    "\n",
    "    return valid_mobile_numbers\n",
    "\n",
    "\n",
    "mobile_numbers = get_mobile_numbers(text)\n",
    "\n",
    "if mobile_numbers:\n",
    "    print(mobile_numbers)\n",
    "    # Update parsed_content with mobile numbers\n",
    "    parsed_content['Mobile Numbers'] = mobile_numbers\n"
   ]
  },
  {
   "cell_type": "markdown",
   "id": "ff13dbfd-062d-45ec-8cb7-774ac7e86d70",
   "metadata": {},
   "source": [
    "//Search Names"
   ]
  },
  {
   "cell_type": "code",
   "execution_count": 102,
   "id": "1661630d",
   "metadata": {},
   "outputs": [
    {
     "name": "stdout",
     "output_type": "stream",
     "text": [
      "Requirement already satisfied: spacy in /Users/PC/anaconda3/lib/python3.11/site-packages (3.7.4)\n",
      "Requirement already satisfied: spacy-legacy<3.1.0,>=3.0.11 in /Users/PC/anaconda3/lib/python3.11/site-packages (from spacy) (3.0.12)\n",
      "Requirement already satisfied: spacy-loggers<2.0.0,>=1.0.0 in /Users/PC/anaconda3/lib/python3.11/site-packages (from spacy) (1.0.5)\n",
      "Requirement already satisfied: murmurhash<1.1.0,>=0.28.0 in /Users/PC/anaconda3/lib/python3.11/site-packages (from spacy) (1.0.10)\n",
      "Requirement already satisfied: cymem<2.1.0,>=2.0.2 in /Users/PC/anaconda3/lib/python3.11/site-packages (from spacy) (2.0.8)\n",
      "Requirement already satisfied: preshed<3.1.0,>=3.0.2 in /Users/PC/anaconda3/lib/python3.11/site-packages (from spacy) (3.0.9)\n",
      "Requirement already satisfied: thinc<8.3.0,>=8.2.2 in /Users/PC/anaconda3/lib/python3.11/site-packages (from spacy) (8.2.3)\n",
      "Requirement already satisfied: wasabi<1.2.0,>=0.9.1 in /Users/PC/anaconda3/lib/python3.11/site-packages (from spacy) (1.1.2)\n",
      "Requirement already satisfied: srsly<3.0.0,>=2.4.3 in /Users/PC/anaconda3/lib/python3.11/site-packages (from spacy) (2.4.8)\n",
      "Requirement already satisfied: catalogue<2.1.0,>=2.0.6 in /Users/PC/anaconda3/lib/python3.11/site-packages (from spacy) (2.0.10)\n",
      "Requirement already satisfied: weasel<0.4.0,>=0.1.0 in /Users/PC/anaconda3/lib/python3.11/site-packages (from spacy) (0.3.4)\n",
      "Requirement already satisfied: typer<0.10.0,>=0.3.0 in /Users/PC/anaconda3/lib/python3.11/site-packages (from spacy) (0.9.0)\n",
      "Requirement already satisfied: smart-open<7.0.0,>=5.2.1 in /Users/PC/anaconda3/lib/python3.11/site-packages (from spacy) (5.2.1)\n",
      "Requirement already satisfied: tqdm<5.0.0,>=4.38.0 in /Users/PC/anaconda3/lib/python3.11/site-packages (from spacy) (4.65.0)\n",
      "Requirement already satisfied: requests<3.0.0,>=2.13.0 in /Users/PC/anaconda3/lib/python3.11/site-packages (from spacy) (2.31.0)\n",
      "Requirement already satisfied: pydantic!=1.8,!=1.8.1,<3.0.0,>=1.7.4 in /Users/PC/anaconda3/lib/python3.11/site-packages (from spacy) (1.10.8)\n",
      "Requirement already satisfied: jinja2 in /Users/PC/anaconda3/lib/python3.11/site-packages (from spacy) (3.1.2)\n",
      "Requirement already satisfied: setuptools in /Users/PC/anaconda3/lib/python3.11/site-packages (from spacy) (68.0.0)\n",
      "Requirement already satisfied: packaging>=20.0 in /Users/PC/anaconda3/lib/python3.11/site-packages (from spacy) (23.1)\n",
      "Requirement already satisfied: langcodes<4.0.0,>=3.2.0 in /Users/PC/anaconda3/lib/python3.11/site-packages (from spacy) (3.3.0)\n",
      "Requirement already satisfied: numpy>=1.19.0 in /Users/PC/anaconda3/lib/python3.11/site-packages (from spacy) (1.24.3)\n",
      "Requirement already satisfied: typing-extensions>=4.2.0 in /Users/PC/anaconda3/lib/python3.11/site-packages (from pydantic!=1.8,!=1.8.1,<3.0.0,>=1.7.4->spacy) (4.7.1)\n",
      "Requirement already satisfied: charset-normalizer<4,>=2 in /Users/PC/anaconda3/lib/python3.11/site-packages (from requests<3.0.0,>=2.13.0->spacy) (2.0.4)\n",
      "Requirement already satisfied: idna<4,>=2.5 in /Users/PC/anaconda3/lib/python3.11/site-packages (from requests<3.0.0,>=2.13.0->spacy) (3.4)\n",
      "Requirement already satisfied: urllib3<3,>=1.21.1 in /Users/PC/anaconda3/lib/python3.11/site-packages (from requests<3.0.0,>=2.13.0->spacy) (1.26.16)\n",
      "Requirement already satisfied: certifi>=2017.4.17 in /Users/PC/anaconda3/lib/python3.11/site-packages (from requests<3.0.0,>=2.13.0->spacy) (2023.7.22)\n",
      "Requirement already satisfied: blis<0.8.0,>=0.7.8 in /Users/PC/anaconda3/lib/python3.11/site-packages (from thinc<8.3.0,>=8.2.2->spacy) (0.7.11)\n",
      "Requirement already satisfied: confection<1.0.0,>=0.0.1 in /Users/PC/anaconda3/lib/python3.11/site-packages (from thinc<8.3.0,>=8.2.2->spacy) (0.1.4)\n",
      "Requirement already satisfied: click<9.0.0,>=7.1.1 in /Users/PC/anaconda3/lib/python3.11/site-packages (from typer<0.10.0,>=0.3.0->spacy) (8.0.4)\n",
      "Requirement already satisfied: cloudpathlib<0.17.0,>=0.7.0 in /Users/PC/anaconda3/lib/python3.11/site-packages (from weasel<0.4.0,>=0.1.0->spacy) (0.16.0)\n",
      "Requirement already satisfied: MarkupSafe>=2.0 in /Users/PC/anaconda3/lib/python3.11/site-packages (from jinja2->spacy) (2.1.1)\n",
      "Note: you may need to restart the kernel to use updated packages.\n"
     ]
    }
   ],
   "source": [
    "pip install spacy"
   ]
  },
  {
   "cell_type": "code",
   "execution_count": 103,
   "id": "3647c17d",
   "metadata": {},
   "outputs": [
    {
     "name": "stdout",
     "output_type": "stream",
     "text": [
      "Collecting en-core-web-sm==3.7.1\n",
      "  Downloading https://github.com/explosion/spacy-models/releases/download/en_core_web_sm-3.7.1/en_core_web_sm-3.7.1-py3-none-any.whl (12.8 MB)\n",
      "\u001b[2K     \u001b[90m━━━━━━━━━━━━━━━━━━━━━━━━━━━━━━━━━━━━━━━━\u001b[0m \u001b[32m12.8/12.8 MB\u001b[0m \u001b[31m5.6 MB/s\u001b[0m eta \u001b[36m0:00:00\u001b[0m00:01\u001b[0m00:01\u001b[0m\n",
      "\u001b[?25hRequirement already satisfied: spacy<3.8.0,>=3.7.2 in /Users/PC/anaconda3/lib/python3.11/site-packages (from en-core-web-sm==3.7.1) (3.7.4)\n",
      "Requirement already satisfied: spacy-legacy<3.1.0,>=3.0.11 in /Users/PC/anaconda3/lib/python3.11/site-packages (from spacy<3.8.0,>=3.7.2->en-core-web-sm==3.7.1) (3.0.12)\n",
      "Requirement already satisfied: spacy-loggers<2.0.0,>=1.0.0 in /Users/PC/anaconda3/lib/python3.11/site-packages (from spacy<3.8.0,>=3.7.2->en-core-web-sm==3.7.1) (1.0.5)\n",
      "Requirement already satisfied: murmurhash<1.1.0,>=0.28.0 in /Users/PC/anaconda3/lib/python3.11/site-packages (from spacy<3.8.0,>=3.7.2->en-core-web-sm==3.7.1) (1.0.10)\n",
      "Requirement already satisfied: cymem<2.1.0,>=2.0.2 in /Users/PC/anaconda3/lib/python3.11/site-packages (from spacy<3.8.0,>=3.7.2->en-core-web-sm==3.7.1) (2.0.8)\n",
      "Requirement already satisfied: preshed<3.1.0,>=3.0.2 in /Users/PC/anaconda3/lib/python3.11/site-packages (from spacy<3.8.0,>=3.7.2->en-core-web-sm==3.7.1) (3.0.9)\n",
      "Requirement already satisfied: thinc<8.3.0,>=8.2.2 in /Users/PC/anaconda3/lib/python3.11/site-packages (from spacy<3.8.0,>=3.7.2->en-core-web-sm==3.7.1) (8.2.3)\n",
      "Requirement already satisfied: wasabi<1.2.0,>=0.9.1 in /Users/PC/anaconda3/lib/python3.11/site-packages (from spacy<3.8.0,>=3.7.2->en-core-web-sm==3.7.1) (1.1.2)\n",
      "Requirement already satisfied: srsly<3.0.0,>=2.4.3 in /Users/PC/anaconda3/lib/python3.11/site-packages (from spacy<3.8.0,>=3.7.2->en-core-web-sm==3.7.1) (2.4.8)\n",
      "Requirement already satisfied: catalogue<2.1.0,>=2.0.6 in /Users/PC/anaconda3/lib/python3.11/site-packages (from spacy<3.8.0,>=3.7.2->en-core-web-sm==3.7.1) (2.0.10)\n",
      "Requirement already satisfied: weasel<0.4.0,>=0.1.0 in /Users/PC/anaconda3/lib/python3.11/site-packages (from spacy<3.8.0,>=3.7.2->en-core-web-sm==3.7.1) (0.3.4)\n",
      "Requirement already satisfied: typer<0.10.0,>=0.3.0 in /Users/PC/anaconda3/lib/python3.11/site-packages (from spacy<3.8.0,>=3.7.2->en-core-web-sm==3.7.1) (0.9.0)\n",
      "Requirement already satisfied: smart-open<7.0.0,>=5.2.1 in /Users/PC/anaconda3/lib/python3.11/site-packages (from spacy<3.8.0,>=3.7.2->en-core-web-sm==3.7.1) (5.2.1)\n",
      "Requirement already satisfied: tqdm<5.0.0,>=4.38.0 in /Users/PC/anaconda3/lib/python3.11/site-packages (from spacy<3.8.0,>=3.7.2->en-core-web-sm==3.7.1) (4.65.0)\n",
      "Requirement already satisfied: requests<3.0.0,>=2.13.0 in /Users/PC/anaconda3/lib/python3.11/site-packages (from spacy<3.8.0,>=3.7.2->en-core-web-sm==3.7.1) (2.31.0)\n",
      "Requirement already satisfied: pydantic!=1.8,!=1.8.1,<3.0.0,>=1.7.4 in /Users/PC/anaconda3/lib/python3.11/site-packages (from spacy<3.8.0,>=3.7.2->en-core-web-sm==3.7.1) (1.10.8)\n",
      "Requirement already satisfied: jinja2 in /Users/PC/anaconda3/lib/python3.11/site-packages (from spacy<3.8.0,>=3.7.2->en-core-web-sm==3.7.1) (3.1.2)\n",
      "Requirement already satisfied: setuptools in /Users/PC/anaconda3/lib/python3.11/site-packages (from spacy<3.8.0,>=3.7.2->en-core-web-sm==3.7.1) (68.0.0)\n",
      "Requirement already satisfied: packaging>=20.0 in /Users/PC/anaconda3/lib/python3.11/site-packages (from spacy<3.8.0,>=3.7.2->en-core-web-sm==3.7.1) (23.1)\n",
      "Requirement already satisfied: langcodes<4.0.0,>=3.2.0 in /Users/PC/anaconda3/lib/python3.11/site-packages (from spacy<3.8.0,>=3.7.2->en-core-web-sm==3.7.1) (3.3.0)\n",
      "Requirement already satisfied: numpy>=1.19.0 in /Users/PC/anaconda3/lib/python3.11/site-packages (from spacy<3.8.0,>=3.7.2->en-core-web-sm==3.7.1) (1.24.3)\n",
      "Requirement already satisfied: typing-extensions>=4.2.0 in /Users/PC/anaconda3/lib/python3.11/site-packages (from pydantic!=1.8,!=1.8.1,<3.0.0,>=1.7.4->spacy<3.8.0,>=3.7.2->en-core-web-sm==3.7.1) (4.7.1)\n",
      "Requirement already satisfied: charset-normalizer<4,>=2 in /Users/PC/anaconda3/lib/python3.11/site-packages (from requests<3.0.0,>=2.13.0->spacy<3.8.0,>=3.7.2->en-core-web-sm==3.7.1) (2.0.4)\n",
      "Requirement already satisfied: idna<4,>=2.5 in /Users/PC/anaconda3/lib/python3.11/site-packages (from requests<3.0.0,>=2.13.0->spacy<3.8.0,>=3.7.2->en-core-web-sm==3.7.1) (3.4)\n",
      "Requirement already satisfied: urllib3<3,>=1.21.1 in /Users/PC/anaconda3/lib/python3.11/site-packages (from requests<3.0.0,>=2.13.0->spacy<3.8.0,>=3.7.2->en-core-web-sm==3.7.1) (1.26.16)\n",
      "Requirement already satisfied: certifi>=2017.4.17 in /Users/PC/anaconda3/lib/python3.11/site-packages (from requests<3.0.0,>=2.13.0->spacy<3.8.0,>=3.7.2->en-core-web-sm==3.7.1) (2023.7.22)\n",
      "Requirement already satisfied: blis<0.8.0,>=0.7.8 in /Users/PC/anaconda3/lib/python3.11/site-packages (from thinc<8.3.0,>=8.2.2->spacy<3.8.0,>=3.7.2->en-core-web-sm==3.7.1) (0.7.11)\n",
      "Requirement already satisfied: confection<1.0.0,>=0.0.1 in /Users/PC/anaconda3/lib/python3.11/site-packages (from thinc<8.3.0,>=8.2.2->spacy<3.8.0,>=3.7.2->en-core-web-sm==3.7.1) (0.1.4)\n",
      "Requirement already satisfied: click<9.0.0,>=7.1.1 in /Users/PC/anaconda3/lib/python3.11/site-packages (from typer<0.10.0,>=0.3.0->spacy<3.8.0,>=3.7.2->en-core-web-sm==3.7.1) (8.0.4)\n",
      "Requirement already satisfied: cloudpathlib<0.17.0,>=0.7.0 in /Users/PC/anaconda3/lib/python3.11/site-packages (from weasel<0.4.0,>=0.1.0->spacy<3.8.0,>=3.7.2->en-core-web-sm==3.7.1) (0.16.0)\n",
      "Requirement already satisfied: MarkupSafe>=2.0 in /Users/PC/anaconda3/lib/python3.11/site-packages (from jinja2->spacy<3.8.0,>=3.7.2->en-core-web-sm==3.7.1) (2.1.1)\n",
      "\u001b[38;5;2m✔ Download and installation successful\u001b[0m\n",
      "You can now load the package via spacy.load('en_core_web_sm')\n"
     ]
    }
   ],
   "source": [
    "!python -m spacy download en_core_web_sm"
   ]
  },
  {
   "cell_type": "code",
   "execution_count": 104,
   "id": "f25ec447-7f37-4963-9684-d26eba626e9b",
   "metadata": {},
   "outputs": [
    {
     "name": "stdout",
     "output_type": "stream",
     "text": [
      "JOSEPH PERERA\n"
     ]
    }
   ],
   "source": [
    "import spacy\n",
    "nlp = spacy.load('en_core_web_sm')\n",
    "from spacy.matcher import Matcher\n",
    "matcher = Matcher(nlp.vocab)\n",
    "\n",
    "def extract_name(text):\n",
    "   nlp_text = nlp(text)\n",
    "  \n",
    "   # First name and Last name are always Proper Nouns\n",
    "   pattern = [{'POS': 'PROPN'}, {'POS': 'PROPN'}]\n",
    "  \n",
    "   matcher.add('NAME', [pattern], on_match = None)\n",
    "  \n",
    "   matches = matcher(nlp_text)\n",
    "  \n",
    "   for match_id, start, end in matches:\n",
    "       span = nlp_text[start:end]\n",
    "       return span.text\n",
    "\n",
    "name = extract_name(text)\n",
    "print(name)\n",
    "parsed_content['Name'] =  name"
   ]
  },
  {
   "cell_type": "code",
   "execution_count": 105,
   "id": "6ea8877e-640f-4b48-8ce4-8ce731303dd1",
   "metadata": {},
   "outputs": [],
   "source": [
    "Keywords = [\"education\",\n",
    "            \"summary\",\n",
    "            \"accomplishments\",\n",
    "            \"executive profile\",\n",
    "            \"professional profile\",\n",
    "            \"personal profile\",\n",
    "            \"work background\",\n",
    "            \"academic profile\",\n",
    "            \"other activities\",\n",
    "            \"⁠Educational Qualification\"\n",
    "            \"qualifications\",\n",
    "            \"experience\",\n",
    "            \"interests\",\n",
    "            \"skills\",\n",
    "            \"achievements\",\n",
    "            \"publications\",\n",
    "            \"publication\",\n",
    "            \"certifications\",\n",
    "            \"workshops\",\n",
    "            \"projects\",\n",
    "            \"internships\",\n",
    "            \"trainings\",\n",
    "            \"hobbies\",\n",
    "            \"overview\",\n",
    "            \"objective\",\n",
    "            \"position of responsibility\",\n",
    "            \"jobs\",\n",
    "            \"⁠University\",\n",
    "            \"institute\",\n",
    "            \"School\",\n",
    "            \"years\"\n",
    "           ]"
   ]
  },
  {
   "cell_type": "code",
   "execution_count": 106,
   "id": "b18538a6-33fc-48d0-9263-0ec3b06dba97",
   "metadata": {},
   "outputs": [
    {
     "name": "stdout",
     "output_type": "stream",
     "text": [
      "                                   document2   joseph perera  system engineer   0716263003  josephjuse@gmail.com   no 1, balfour road, negombo     profile     i am an it systems engineer specializing in microsoft server, vmware, pfsense, kaspersky, zimbra, and it  management for mid-sized and large clients. i have extensive experience overseeing the development,  implementation, and management of information technology systems that improve accessibility and  resolve networking issues. this experience has helped me develop a range of relevant skills, including an  in-depth knowledge of linux and azure server architecture, confident project leadership, and familiarity  with a range of technological applications proficient in the usage of microsoft visio as tools for technical  presentation and documentation. i have extensive experience in planning, implementation, configuring,  testing, and troubleshooting networking systems. i am competent in handling escalating problems. being  an effective systems administrator requires mastery of such skills, and i am dedicated to applying them  to the next position i hold.     skills & abilities     proven working experience in installing, configuring and troubleshooting unix/linux based environments.  proven ability to work under pressure and to meet deadlines. able to work as part of a team, and work  shifts, evenings and weekends. able to present & negotiate at all levels in a non-technical manner.  understanding of change, incident and problem management. constantly focused on improving customer  service through improved infrastructure management. implementation of azure services, cloud  migration and implementation. implementation of office 365 solutions (hybrid deployments, mailbox  migration from on premises to cloud). installation, configuration and troubleshooting of windows server  2003/2008/2012/2016 based active directory infrastructure.      experience     2014 – present  it systems engineer  d. samson industries (pvt) ltd   presenting reports to senior management, providing end-user training and documentation, and ensuring  the maintenance and management of a critical windows-based server environment. i keep antivirus levels  up to date across all company machines and actively manage active directory and it user accounts. my  duties also involve managing and monitoring backups in multiple locations, providing maintenance  support and break-fix solutions for eight contracts, and adhering to documented processes such as  implementing change control procedures. i regularly liaise with it service and senior managers,  troubleshoot technical problems, and implement system upgrades for workstations and servers.  furthermore, i handle the purchasing of it equipment and software within agreed budgets and support a  multi-location it infrastructure for several hundred users. my role requires fast and accurate  troubleshooting, asset management, and overseeing repair logistics. i am responsible for developing and  implementing network security by following advanced security standards and protocols, assessing  vulnerabilities, and managing daily firewall administration to ensure network integrity and security.     2010 – 2014 system & network junior engineer   people’s bank head office   as an it professional, i specialize in configuring and maintaining core banking, unix, and linux systems,  along with managing a kaspersky lab server for 500 clients. i'm skilled in setting up and troubleshooting  internet and zimbra email services, identifying technical issues, and implementing solutions. my expertise  includes server os, security, remote access, and proficiency with various firewalls and proxies (cyberoam,  fortigate, pfsense, clearos, centos). additionally, i handle network cabling, repair, and maintenance of  cctv systems, and provide comprehensive help desk support via phone and on-site visits.     education     bsc(hons) in network technology  national vocational training institute, ratmalana   higher national diploma in bcs   e soft negombo branch    microsoft certified solutions associate – 2012/2016    microsoft certified solutions expert -2012/2016    associate vmware data center virtualization (1v0-21.20)    associate vmware network virtualization (1v0-41.20)  turnkey it campus-colombo 03     referees     mr. dhammika dasa – chief it manager, people’s bank head office, colombo 02  tel no – 072 910 4846   mr. nuwan sanjaya – group it manager, d. samson industries (pvt) ltd, colombo 02  tel no – 078 451 2471          \n"
     ]
    }
   ],
   "source": [
    "text = text.replace(\"\\n\",\" \")\n",
    "text = text.replace(\"[^a-zA-Z0-9]\", \" \");  \n",
    "re.sub('\\W+','', text)\n",
    "text = text.lower()\n",
    "print(text)"
   ]
  },
  {
   "cell_type": "code",
   "execution_count": 107,
   "id": "01bdf981-f197-4462-824d-2e4daac8c657",
   "metadata": {},
   "outputs": [],
   "source": [
    "content = {}\n",
    "indices = []\n",
    "keys = []\n",
    "for key in Keywords:\n",
    "    try:\n",
    "        content[key] = text[text.index(key) + len(key):]\n",
    "        indices.append(text.index(key))\n",
    "        keys.append(key)\n",
    "    except:\n",
    "        pass"
   ]
  },
  {
   "cell_type": "code",
   "execution_count": 108,
   "id": "b33da878-53dc-4038-ba5d-2569661096b3",
   "metadata": {},
   "outputs": [
    {
     "data": {
      "text/plain": [
       "['experience', 'skills', 'education', 'institute']"
      ]
     },
     "execution_count": 108,
     "metadata": {},
     "output_type": "execute_result"
    }
   ],
   "source": [
    "#Sorting the indices\n",
    "zipped_lists = zip(indices, keys)\n",
    "sorted_pairs = sorted(zipped_lists)\n",
    "sorted_pairs\n",
    "\n",
    "tuples = zip(*sorted_pairs)\n",
    "indices, keys = [ list(tuple) for tuple in  tuples]\n",
    "keys"
   ]
  },
  {
   "cell_type": "code",
   "execution_count": 109,
   "id": "e649be58-2cf4-4938-a72b-062da07f60c1",
   "metadata": {},
   "outputs": [],
   "source": [
    "content = []\n",
    "for idx in range(len(indices)):\n",
    "    if idx != len(indices)-1:\n",
    "        content.append(text[indices[idx]: indices[idx+1]])\n",
    "    else:\n",
    "        content.append(text[indices[idx]: ])"
   ]
  },
  {
   "cell_type": "code",
   "execution_count": 110,
   "id": "1d812001-b9f1-4fd6-af39-294dee050af9",
   "metadata": {},
   "outputs": [],
   "source": [
    "for i in range(len(indices)):\n",
    "    parsed_content[keys[i]] = content[i]   "
   ]
  },
  {
   "cell_type": "code",
   "execution_count": 111,
   "id": "029d890d-03ca-4afc-836e-2c111c10702c",
   "metadata": {},
   "outputs": [
    {
     "data": {
      "text/plain": [
       "{'E-mail': ['JOSEPHJUSE@GMAIL.COM'],\n",
       " 'Phone number': ['0716263003', '0729104846', '0784512471'],\n",
       " 'Mobile Numbers': ['0716263003'],\n",
       " 'Name': 'JOSEPH PERERA',\n",
       " 'experience': 'experience overseeing the development,  implementation, and management of information technology systems that improve accessibility and  resolve networking issues. this experience has helped me develop a range of relevant ',\n",
       " 'skills': \"skills, including an  in-depth knowledge of linux and azure server architecture, confident project leadership, and familiarity  with a range of technological applications proficient in the usage of microsoft visio as tools for technical  presentation and documentation. i have extensive experience in planning, implementation, configuring,  testing, and troubleshooting networking systems. i am competent in handling escalating problems. being  an effective systems administrator requires mastery of such skills, and i am dedicated to applying them  to the next position i hold.     skills & abilities     proven working experience in installing, configuring and troubleshooting unix/linux based environments.  proven ability to work under pressure and to meet deadlines. able to work as part of a team, and work  shifts, evenings and weekends. able to present & negotiate at all levels in a non-technical manner.  understanding of change, incident and problem management. constantly focused on improving customer  service through improved infrastructure management. implementation of azure services, cloud  migration and implementation. implementation of office 365 solutions (hybrid deployments, mailbox  migration from on premises to cloud). installation, configuration and troubleshooting of windows server  2003/2008/2012/2016 based active directory infrastructure.      experience     2014 – present  it systems engineer  d. samson industries (pvt) ltd   presenting reports to senior management, providing end-user training and documentation, and ensuring  the maintenance and management of a critical windows-based server environment. i keep antivirus levels  up to date across all company machines and actively manage active directory and it user accounts. my  duties also involve managing and monitoring backups in multiple locations, providing maintenance  support and break-fix solutions for eight contracts, and adhering to documented processes such as  implementing change control procedures. i regularly liaise with it service and senior managers,  troubleshoot technical problems, and implement system upgrades for workstations and servers.  furthermore, i handle the purchasing of it equipment and software within agreed budgets and support a  multi-location it infrastructure for several hundred users. my role requires fast and accurate  troubleshooting, asset management, and overseeing repair logistics. i am responsible for developing and  implementing network security by following advanced security standards and protocols, assessing  vulnerabilities, and managing daily firewall administration to ensure network integrity and security.     2010 – 2014 system & network junior engineer   people’s bank head office   as an it professional, i specialize in configuring and maintaining core banking, unix, and linux systems,  along with managing a kaspersky lab server for 500 clients. i'm skilled in setting up and troubleshooting  internet and zimbra email services, identifying technical issues, and implementing solutions. my expertise  includes server os, security, remote access, and proficiency with various firewalls and proxies (cyberoam,  fortigate, pfsense, clearos, centos). additionally, i handle network cabling, repair, and maintenance of  cctv systems, and provide comprehensive help desk support via phone and on-site visits.     \",\n",
       " 'education': 'education     bsc(hons) in network technology  national vocational training ',\n",
       " 'institute': 'institute, ratmalana   higher national diploma in bcs   e soft negombo branch    microsoft certified solutions associate – 2012/2016    microsoft certified solutions expert -2012/2016    associate vmware data center virtualization (1v0-21.20)    associate vmware network virtualization (1v0-41.20)  turnkey it campus-colombo 03     referees     mr. dhammika dasa – chief it manager, people’s bank head office, colombo 02  tel no – 072 910 4846   mr. nuwan sanjaya – group it manager, d. samson industries (pvt) ltd, colombo 02  tel no – 078 451 2471          '}"
      ]
     },
     "execution_count": 111,
     "metadata": {},
     "output_type": "execute_result"
    }
   ],
   "source": [
    "#Display\n",
    "parsed_content"
   ]
  },
  {
   "cell_type": "code",
   "execution_count": 112,
   "id": "f00af55b-6310-42b0-b311-f4d37b4fe5bc",
   "metadata": {},
   "outputs": [],
   "source": [
    "# //converting to json format\n",
    "\n",
    "# import json\n",
    "# with open(\"Parsed_Resume.json\", \"w\") as outfile:\n",
    "#     json.dump(parsed_content, outfile)\n",
    "\n"
   ]
  },
  {
   "cell_type": "code",
   "execution_count": 113,
   "id": "2f30626e-f31c-48ed-9de8-3e89fce4a083",
   "metadata": {},
   "outputs": [
    {
     "name": "stdout",
     "output_type": "stream",
     "text": [
      "{\n",
      "    \"E-mail\": [\n",
      "        \"JOSEPHJUSE@GMAIL.COM\"\n",
      "    ],\n",
      "    \"Phone number\": [\n",
      "        \"0716263003\",\n",
      "        \"0729104846\",\n",
      "        \"0784512471\"\n",
      "    ],\n",
      "    \"Mobile Numbers\": [\n",
      "        \"0716263003\"\n",
      "    ],\n",
      "    \"Name\": \"JOSEPH PERERA\",\n",
      "    \"experience\": \"experience overseeing the development,  implementation, and management of information technology systems that improve accessibility and  resolve networking issues. this experience has helped me develop a range of relevant \",\n",
      "    \"skills\": \"skills, including an  in-depth knowledge of linux and azure server architecture, confident project leadership, and familiarity  with a range of technological applications proficient in the usage of microsoft visio as tools for technical  presentation and documentation. i have extensive experience in planning, implementation, configuring,  testing, and troubleshooting networking systems. i am competent in handling escalating problems. being  an effective systems administrator requires mastery of such skills, and i am dedicated to applying them  to the next position i hold.     skills & abilities     proven working experience in installing, configuring and troubleshooting unix/linux based environments.  proven ability to work under pressure and to meet deadlines. able to work as part of a team, and work  shifts, evenings and weekends. able to present & negotiate at all levels in a non-technical manner.  understanding of change, incident and problem management. constantly focused on improving customer  service through improved infrastructure management. implementation of azure services, cloud  migration and implementation. implementation of office 365 solutions (hybrid deployments, mailbox  migration from on premises to cloud). installation, configuration and troubleshooting of windows server  2003/2008/2012/2016 based active directory infrastructure.      experience     2014 \\u2013 present  it systems engineer  d. samson industries (pvt) ltd   presenting reports to senior management, providing end-user training and documentation, and ensuring  the maintenance and management of a critical windows-based server environment. i keep antivirus levels  up to date across all company machines and actively manage active directory and it user accounts. my  duties also involve managing and monitoring backups in multiple locations, providing maintenance  support and break-fix solutions for eight contracts, and adhering to documented processes such as  implementing change control procedures. i regularly liaise with it service and senior managers,  troubleshoot technical problems, and implement system upgrades for workstations and servers.  furthermore, i handle the purchasing of it equipment and software within agreed budgets and support a  multi-location it infrastructure for several hundred users. my role requires fast and accurate  troubleshooting, asset management, and overseeing repair logistics. i am responsible for developing and  implementing network security by following advanced security standards and protocols, assessing  vulnerabilities, and managing daily firewall administration to ensure network integrity and security.     2010 \\u2013 2014 system & network junior engineer   people\\u2019s bank head office   as an it professional, i specialize in configuring and maintaining core banking, unix, and linux systems,  along with managing a kaspersky lab server for 500 clients. i'm skilled in setting up and troubleshooting  internet and zimbra email services, identifying technical issues, and implementing solutions. my expertise  includes server os, security, remote access, and proficiency with various firewalls and proxies (cyberoam,  fortigate, pfsense, clearos, centos). additionally, i handle network cabling, repair, and maintenance of  cctv systems, and provide comprehensive help desk support via phone and on-site visits.     \",\n",
      "    \"education\": \"education     bsc(hons) in network technology  national vocational training \",\n",
      "    \"institute\": \"institute, ratmalana   higher national diploma in bcs   e soft negombo branch    microsoft certified solutions associate \\u2013 2012/2016    microsoft certified solutions expert -2012/2016    associate vmware data center virtualization (1v0-21.20)    associate vmware network virtualization (1v0-41.20)  turnkey it campus-colombo 03     referees     mr. dhammika dasa \\u2013 chief it manager, people\\u2019s bank head office, colombo 02  tel no \\u2013 072 910 4846   mr. nuwan sanjaya \\u2013 group it manager, d. samson industries (pvt) ltd, colombo 02  tel no \\u2013 078 451 2471          \"\n",
      "}\n"
     ]
    }
   ],
   "source": [
    "# //Display\n",
    "\n",
    "# a_file = open(\"Parsed_Resume.json\", \"r\")\n",
    "# a_json = json.load(a_file)\n",
    "# pretty_json = json.dumps(a_json, indent=4)\n",
    "# a_file.close()\n",
    "# print(pretty_json)\n",
    "\n"
   ]
  },
  {
   "cell_type": "code",
   "execution_count": 9,
   "id": "7c690357",
   "metadata": {},
   "outputs": [],
   "source": [
    "# #Display\n",
    "# parsed_content"
   ]
  },
  {
   "cell_type": "code",
   "execution_count": 8,
   "id": "ab49f9d0-e462-49c0-9c98-58e0d7c590f6",
   "metadata": {},
   "outputs": [],
   "source": [
    "import pandas as pd"
   ]
  },
  {
   "cell_type": "code",
   "execution_count": 12,
   "id": "bf025ced",
   "metadata": {},
   "outputs": [
    {
     "name": "stdout",
     "output_type": "stream",
     "text": [
      "       Field           Value\n",
      "0     skills  {Java, Python}\n",
      "1  education            True\n",
      "2      email            True\n",
      "3  telephone            True\n"
     ]
    }
   ],
   "source": [
    "df = pd.DataFrame(parsed_content.items(), columns=['Field', 'Value'])\n",
    "\n",
    "# Display DataFrame as a table\n",
    "print(df)"
   ]
  },
  {
   "cell_type": "code",
   "execution_count": 13,
   "id": "9db970bf",
   "metadata": {},
   "outputs": [
    {
     "ename": "TypeError",
     "evalue": "Object of type set is not JSON serializable",
     "output_type": "error",
     "traceback": [
      "\u001b[0;31m---------------------------------------------------------------------------\u001b[0m",
      "\u001b[0;31mTypeError\u001b[0m                                 Traceback (most recent call last)",
      "Cell \u001b[0;32mIn[13], line 5\u001b[0m\n\u001b[1;32m      3\u001b[0m \u001b[38;5;28;01mimport\u001b[39;00m \u001b[38;5;21;01mjson\u001b[39;00m\n\u001b[1;32m      4\u001b[0m \u001b[38;5;28;01mwith\u001b[39;00m \u001b[38;5;28mopen\u001b[39m(\u001b[38;5;124m\"\u001b[39m\u001b[38;5;124mParsed_Resume.json\u001b[39m\u001b[38;5;124m\"\u001b[39m, \u001b[38;5;124m\"\u001b[39m\u001b[38;5;124mw\u001b[39m\u001b[38;5;124m\"\u001b[39m) \u001b[38;5;28;01mas\u001b[39;00m outfile:\n\u001b[0;32m----> 5\u001b[0m     json\u001b[38;5;241m.\u001b[39mdump(parsed_content, outfile)\n",
      "File \u001b[0;32m~/anaconda3/lib/python3.11/json/__init__.py:179\u001b[0m, in \u001b[0;36mdump\u001b[0;34m(obj, fp, skipkeys, ensure_ascii, check_circular, allow_nan, cls, indent, separators, default, sort_keys, **kw)\u001b[0m\n\u001b[1;32m    173\u001b[0m     iterable \u001b[38;5;241m=\u001b[39m \u001b[38;5;28mcls\u001b[39m(skipkeys\u001b[38;5;241m=\u001b[39mskipkeys, ensure_ascii\u001b[38;5;241m=\u001b[39mensure_ascii,\n\u001b[1;32m    174\u001b[0m         check_circular\u001b[38;5;241m=\u001b[39mcheck_circular, allow_nan\u001b[38;5;241m=\u001b[39mallow_nan, indent\u001b[38;5;241m=\u001b[39mindent,\n\u001b[1;32m    175\u001b[0m         separators\u001b[38;5;241m=\u001b[39mseparators,\n\u001b[1;32m    176\u001b[0m         default\u001b[38;5;241m=\u001b[39mdefault, sort_keys\u001b[38;5;241m=\u001b[39msort_keys, \u001b[38;5;241m*\u001b[39m\u001b[38;5;241m*\u001b[39mkw)\u001b[38;5;241m.\u001b[39miterencode(obj)\n\u001b[1;32m    177\u001b[0m \u001b[38;5;66;03m# could accelerate with writelines in some versions of Python, at\u001b[39;00m\n\u001b[1;32m    178\u001b[0m \u001b[38;5;66;03m# a debuggability cost\u001b[39;00m\n\u001b[0;32m--> 179\u001b[0m \u001b[38;5;28;01mfor\u001b[39;00m chunk \u001b[38;5;129;01min\u001b[39;00m iterable:\n\u001b[1;32m    180\u001b[0m     fp\u001b[38;5;241m.\u001b[39mwrite(chunk)\n",
      "File \u001b[0;32m~/anaconda3/lib/python3.11/json/encoder.py:432\u001b[0m, in \u001b[0;36m_make_iterencode.<locals>._iterencode\u001b[0;34m(o, _current_indent_level)\u001b[0m\n\u001b[1;32m    430\u001b[0m     \u001b[38;5;28;01myield from\u001b[39;00m _iterencode_list(o, _current_indent_level)\n\u001b[1;32m    431\u001b[0m \u001b[38;5;28;01melif\u001b[39;00m \u001b[38;5;28misinstance\u001b[39m(o, \u001b[38;5;28mdict\u001b[39m):\n\u001b[0;32m--> 432\u001b[0m     \u001b[38;5;28;01myield from\u001b[39;00m _iterencode_dict(o, _current_indent_level)\n\u001b[1;32m    433\u001b[0m \u001b[38;5;28;01melse\u001b[39;00m:\n\u001b[1;32m    434\u001b[0m     \u001b[38;5;28;01mif\u001b[39;00m markers \u001b[38;5;129;01mis\u001b[39;00m \u001b[38;5;129;01mnot\u001b[39;00m \u001b[38;5;28;01mNone\u001b[39;00m:\n",
      "File \u001b[0;32m~/anaconda3/lib/python3.11/json/encoder.py:406\u001b[0m, in \u001b[0;36m_make_iterencode.<locals>._iterencode_dict\u001b[0;34m(dct, _current_indent_level)\u001b[0m\n\u001b[1;32m    404\u001b[0m         \u001b[38;5;28;01melse\u001b[39;00m:\n\u001b[1;32m    405\u001b[0m             chunks \u001b[38;5;241m=\u001b[39m _iterencode(value, _current_indent_level)\n\u001b[0;32m--> 406\u001b[0m         \u001b[38;5;28;01myield from\u001b[39;00m chunks\n\u001b[1;32m    407\u001b[0m \u001b[38;5;28;01mif\u001b[39;00m newline_indent \u001b[38;5;129;01mis\u001b[39;00m \u001b[38;5;129;01mnot\u001b[39;00m \u001b[38;5;28;01mNone\u001b[39;00m:\n\u001b[1;32m    408\u001b[0m     _current_indent_level \u001b[38;5;241m-\u001b[39m\u001b[38;5;241m=\u001b[39m \u001b[38;5;241m1\u001b[39m\n",
      "File \u001b[0;32m~/anaconda3/lib/python3.11/json/encoder.py:439\u001b[0m, in \u001b[0;36m_make_iterencode.<locals>._iterencode\u001b[0;34m(o, _current_indent_level)\u001b[0m\n\u001b[1;32m    437\u001b[0m         \u001b[38;5;28;01mraise\u001b[39;00m \u001b[38;5;167;01mValueError\u001b[39;00m(\u001b[38;5;124m\"\u001b[39m\u001b[38;5;124mCircular reference detected\u001b[39m\u001b[38;5;124m\"\u001b[39m)\n\u001b[1;32m    438\u001b[0m     markers[markerid] \u001b[38;5;241m=\u001b[39m o\n\u001b[0;32m--> 439\u001b[0m o \u001b[38;5;241m=\u001b[39m _default(o)\n\u001b[1;32m    440\u001b[0m \u001b[38;5;28;01myield from\u001b[39;00m _iterencode(o, _current_indent_level)\n\u001b[1;32m    441\u001b[0m \u001b[38;5;28;01mif\u001b[39;00m markers \u001b[38;5;129;01mis\u001b[39;00m \u001b[38;5;129;01mnot\u001b[39;00m \u001b[38;5;28;01mNone\u001b[39;00m:\n",
      "File \u001b[0;32m~/anaconda3/lib/python3.11/json/encoder.py:180\u001b[0m, in \u001b[0;36mJSONEncoder.default\u001b[0;34m(self, o)\u001b[0m\n\u001b[1;32m    161\u001b[0m \u001b[38;5;28;01mdef\u001b[39;00m \u001b[38;5;21mdefault\u001b[39m(\u001b[38;5;28mself\u001b[39m, o):\n\u001b[1;32m    162\u001b[0m \u001b[38;5;250m    \u001b[39m\u001b[38;5;124;03m\"\"\"Implement this method in a subclass such that it returns\u001b[39;00m\n\u001b[1;32m    163\u001b[0m \u001b[38;5;124;03m    a serializable object for ``o``, or calls the base implementation\u001b[39;00m\n\u001b[1;32m    164\u001b[0m \u001b[38;5;124;03m    (to raise a ``TypeError``).\u001b[39;00m\n\u001b[0;32m   (...)\u001b[0m\n\u001b[1;32m    178\u001b[0m \n\u001b[1;32m    179\u001b[0m \u001b[38;5;124;03m    \"\"\"\u001b[39;00m\n\u001b[0;32m--> 180\u001b[0m     \u001b[38;5;28;01mraise\u001b[39;00m \u001b[38;5;167;01mTypeError\u001b[39;00m(\u001b[38;5;124mf\u001b[39m\u001b[38;5;124m'\u001b[39m\u001b[38;5;124mObject of type \u001b[39m\u001b[38;5;132;01m{\u001b[39;00mo\u001b[38;5;241m.\u001b[39m\u001b[38;5;18m__class__\u001b[39m\u001b[38;5;241m.\u001b[39m\u001b[38;5;18m__name__\u001b[39m\u001b[38;5;132;01m}\u001b[39;00m\u001b[38;5;124m \u001b[39m\u001b[38;5;124m'\u001b[39m\n\u001b[1;32m    181\u001b[0m                     \u001b[38;5;124mf\u001b[39m\u001b[38;5;124m'\u001b[39m\u001b[38;5;124mis not JSON serializable\u001b[39m\u001b[38;5;124m'\u001b[39m)\n",
      "\u001b[0;31mTypeError\u001b[0m: Object of type set is not JSON serializable"
     ]
    }
   ],
   "source": [
    "# converting to json format\n",
    "\n",
    "import json\n",
    "with open(\"Parsed_Resume.json\", \"w\") as outfile:\n",
    "    json.dump(parsed_content, outfile)"
   ]
  },
  {
   "cell_type": "code",
   "execution_count": 14,
   "id": "9b5a897b",
   "metadata": {},
   "outputs": [
    {
     "name": "stdout",
     "output_type": "stream",
     "text": [
      "Total Points: 20\n"
     ]
    }
   ],
   "source": [
    "#check if these keywords exist and if there so the points are assigned\n",
    "\n",
    "def check_skills(parsed_content):\n",
    "    if 'skills' in parsed_content:\n",
    "        return 5\n",
    "    return 0\n",
    "\n",
    "def check_education(parsed_content):\n",
    "    if 'education' in parsed_content:\n",
    "        return 5\n",
    "    return 0\n",
    "\n",
    "def check_email(parsed_content):\n",
    "    if 'email' in parsed_content:\n",
    "        return 5\n",
    "    return 0\n",
    "\n",
    "def check_telephone(parsed_content):\n",
    "    if 'telephone' in parsed_content:\n",
    "        return 5\n",
    "    return 0\n",
    "\n",
    "def calculate_points(parsed_content):\n",
    "    total_points = 0\n",
    "    total_points += check_skills(parsed_content)\n",
    "    total_points += check_education(parsed_content)\n",
    "    total_points += check_email(parsed_content)\n",
    "    total_points += check_telephone(parsed_content)\n",
    "    return total_points\n",
    "\n",
    "\n",
    "\n",
    "# Calculate points\n",
    "points = calculate_points(parsed_content)\n",
    "print(\"Total Points:\", points)\n"
   ]
  },
  {
   "cell_type": "code",
   "execution_count": 6,
   "id": "85ca9048",
   "metadata": {},
   "outputs": [
    {
     "name": "stdout",
     "output_type": "stream",
     "text": [
      "Total Points: 21\n"
     ]
    }
   ],
   "source": [
    "def check_skills(parsed_content):\n",
    "    # Check if 'skills' key exists in parsed_content\n",
    "    if 'skills' in parsed_content:\n",
    "        skills = parsed_content['skills']  # Get the skills dictionary\n",
    "        # Define points for each skill if they exist\n",
    "        skill_points = {\n",
    "            'Python': 3,\n",
    "            'Java': 3,\n",
    "            'SQL': 3,\n",
    "            # Add more skills and their respective points here\n",
    "        }\n",
    "        total_points = 0\n",
    "        # Check each skill and add its points if it exists in the skills dictionary\n",
    "        for skill, points in skill_points.items():\n",
    "            if skill in skills:\n",
    "                total_points += points\n",
    "        return total_points\n",
    "    return 0\n",
    "\n",
    "def check_education(parsed_content):\n",
    "    if 'education' in parsed_content:\n",
    "        return 5\n",
    "    return 0\n",
    "\n",
    "def check_email(parsed_content):\n",
    "    if 'email' in parsed_content:\n",
    "        return 5\n",
    "    return 0\n",
    "\n",
    "def check_telephone(parsed_content):\n",
    "    if 'telephone' in parsed_content:\n",
    "        return 5\n",
    "    return 0\n",
    "\n",
    "def calculate_points(parsed_content):\n",
    "    total_points = 0\n",
    "    total_points += check_skills(parsed_content)\n",
    "    total_points += check_education(parsed_content)\n",
    "    total_points += check_email(parsed_content)\n",
    "    total_points += check_telephone(parsed_content)\n",
    "    return total_points\n",
    "\n",
    "# Sample parsed content (you need to replace this with your actual parsed content)\n",
    "parsed_content = {\n",
    "    'skills': {'Python', 'Java'},  # Example skills\n",
    "    'education': True,  # Example education field\n",
    "    'email': True,  # Example email field\n",
    "    'telephone': True  # Example telephone field\n",
    "}\n",
    "\n",
    "# Calculate points\n",
    "points = calculate_points(parsed_content)\n",
    "print(\"Total Points:\", points)\n"
   ]
  },
  {
   "cell_type": "code",
   "execution_count": 15,
   "id": "a4522a8d",
   "metadata": {},
   "outputs": [
    {
     "ename": "JSONDecodeError",
     "evalue": "Expecting value: line 1 column 12 (char 11)",
     "output_type": "error",
     "traceback": [
      "\u001b[0;31m---------------------------------------------------------------------------\u001b[0m",
      "\u001b[0;31mJSONDecodeError\u001b[0m                           Traceback (most recent call last)",
      "Cell \u001b[0;32mIn[15], line 4\u001b[0m\n\u001b[1;32m      1\u001b[0m \u001b[38;5;66;03m#Display\u001b[39;00m\n\u001b[1;32m      3\u001b[0m a_file \u001b[38;5;241m=\u001b[39m \u001b[38;5;28mopen\u001b[39m(\u001b[38;5;124m\"\u001b[39m\u001b[38;5;124mParsed_Resume.json\u001b[39m\u001b[38;5;124m\"\u001b[39m, \u001b[38;5;124m\"\u001b[39m\u001b[38;5;124mr\u001b[39m\u001b[38;5;124m\"\u001b[39m)\n\u001b[0;32m----> 4\u001b[0m a_json \u001b[38;5;241m=\u001b[39m json\u001b[38;5;241m.\u001b[39mload(a_file)\n\u001b[1;32m      5\u001b[0m pretty_json \u001b[38;5;241m=\u001b[39m json\u001b[38;5;241m.\u001b[39mdumps(a_json, indent\u001b[38;5;241m=\u001b[39m\u001b[38;5;241m4\u001b[39m)\n\u001b[1;32m      6\u001b[0m a_file\u001b[38;5;241m.\u001b[39mclose()\n",
      "File \u001b[0;32m~/anaconda3/lib/python3.11/json/__init__.py:293\u001b[0m, in \u001b[0;36mload\u001b[0;34m(fp, cls, object_hook, parse_float, parse_int, parse_constant, object_pairs_hook, **kw)\u001b[0m\n\u001b[1;32m    274\u001b[0m \u001b[38;5;28;01mdef\u001b[39;00m \u001b[38;5;21mload\u001b[39m(fp, \u001b[38;5;241m*\u001b[39m, \u001b[38;5;28mcls\u001b[39m\u001b[38;5;241m=\u001b[39m\u001b[38;5;28;01mNone\u001b[39;00m, object_hook\u001b[38;5;241m=\u001b[39m\u001b[38;5;28;01mNone\u001b[39;00m, parse_float\u001b[38;5;241m=\u001b[39m\u001b[38;5;28;01mNone\u001b[39;00m,\n\u001b[1;32m    275\u001b[0m         parse_int\u001b[38;5;241m=\u001b[39m\u001b[38;5;28;01mNone\u001b[39;00m, parse_constant\u001b[38;5;241m=\u001b[39m\u001b[38;5;28;01mNone\u001b[39;00m, object_pairs_hook\u001b[38;5;241m=\u001b[39m\u001b[38;5;28;01mNone\u001b[39;00m, \u001b[38;5;241m*\u001b[39m\u001b[38;5;241m*\u001b[39mkw):\n\u001b[1;32m    276\u001b[0m \u001b[38;5;250m    \u001b[39m\u001b[38;5;124;03m\"\"\"Deserialize ``fp`` (a ``.read()``-supporting file-like object containing\u001b[39;00m\n\u001b[1;32m    277\u001b[0m \u001b[38;5;124;03m    a JSON document) to a Python object.\u001b[39;00m\n\u001b[1;32m    278\u001b[0m \n\u001b[0;32m   (...)\u001b[0m\n\u001b[1;32m    291\u001b[0m \u001b[38;5;124;03m    kwarg; otherwise ``JSONDecoder`` is used.\u001b[39;00m\n\u001b[1;32m    292\u001b[0m \u001b[38;5;124;03m    \"\"\"\u001b[39;00m\n\u001b[0;32m--> 293\u001b[0m     \u001b[38;5;28;01mreturn\u001b[39;00m loads(fp\u001b[38;5;241m.\u001b[39mread(),\n\u001b[1;32m    294\u001b[0m         \u001b[38;5;28mcls\u001b[39m\u001b[38;5;241m=\u001b[39m\u001b[38;5;28mcls\u001b[39m, object_hook\u001b[38;5;241m=\u001b[39mobject_hook,\n\u001b[1;32m    295\u001b[0m         parse_float\u001b[38;5;241m=\u001b[39mparse_float, parse_int\u001b[38;5;241m=\u001b[39mparse_int,\n\u001b[1;32m    296\u001b[0m         parse_constant\u001b[38;5;241m=\u001b[39mparse_constant, object_pairs_hook\u001b[38;5;241m=\u001b[39mobject_pairs_hook, \u001b[38;5;241m*\u001b[39m\u001b[38;5;241m*\u001b[39mkw)\n",
      "File \u001b[0;32m~/anaconda3/lib/python3.11/json/__init__.py:346\u001b[0m, in \u001b[0;36mloads\u001b[0;34m(s, cls, object_hook, parse_float, parse_int, parse_constant, object_pairs_hook, **kw)\u001b[0m\n\u001b[1;32m    341\u001b[0m     s \u001b[38;5;241m=\u001b[39m s\u001b[38;5;241m.\u001b[39mdecode(detect_encoding(s), \u001b[38;5;124m'\u001b[39m\u001b[38;5;124msurrogatepass\u001b[39m\u001b[38;5;124m'\u001b[39m)\n\u001b[1;32m    343\u001b[0m \u001b[38;5;28;01mif\u001b[39;00m (\u001b[38;5;28mcls\u001b[39m \u001b[38;5;129;01mis\u001b[39;00m \u001b[38;5;28;01mNone\u001b[39;00m \u001b[38;5;129;01mand\u001b[39;00m object_hook \u001b[38;5;129;01mis\u001b[39;00m \u001b[38;5;28;01mNone\u001b[39;00m \u001b[38;5;129;01mand\u001b[39;00m\n\u001b[1;32m    344\u001b[0m         parse_int \u001b[38;5;129;01mis\u001b[39;00m \u001b[38;5;28;01mNone\u001b[39;00m \u001b[38;5;129;01mand\u001b[39;00m parse_float \u001b[38;5;129;01mis\u001b[39;00m \u001b[38;5;28;01mNone\u001b[39;00m \u001b[38;5;129;01mand\u001b[39;00m\n\u001b[1;32m    345\u001b[0m         parse_constant \u001b[38;5;129;01mis\u001b[39;00m \u001b[38;5;28;01mNone\u001b[39;00m \u001b[38;5;129;01mand\u001b[39;00m object_pairs_hook \u001b[38;5;129;01mis\u001b[39;00m \u001b[38;5;28;01mNone\u001b[39;00m \u001b[38;5;129;01mand\u001b[39;00m \u001b[38;5;129;01mnot\u001b[39;00m kw):\n\u001b[0;32m--> 346\u001b[0m     \u001b[38;5;28;01mreturn\u001b[39;00m _default_decoder\u001b[38;5;241m.\u001b[39mdecode(s)\n\u001b[1;32m    347\u001b[0m \u001b[38;5;28;01mif\u001b[39;00m \u001b[38;5;28mcls\u001b[39m \u001b[38;5;129;01mis\u001b[39;00m \u001b[38;5;28;01mNone\u001b[39;00m:\n\u001b[1;32m    348\u001b[0m     \u001b[38;5;28mcls\u001b[39m \u001b[38;5;241m=\u001b[39m JSONDecoder\n",
      "File \u001b[0;32m~/anaconda3/lib/python3.11/json/decoder.py:337\u001b[0m, in \u001b[0;36mJSONDecoder.decode\u001b[0;34m(self, s, _w)\u001b[0m\n\u001b[1;32m    332\u001b[0m \u001b[38;5;28;01mdef\u001b[39;00m \u001b[38;5;21mdecode\u001b[39m(\u001b[38;5;28mself\u001b[39m, s, _w\u001b[38;5;241m=\u001b[39mWHITESPACE\u001b[38;5;241m.\u001b[39mmatch):\n\u001b[1;32m    333\u001b[0m \u001b[38;5;250m    \u001b[39m\u001b[38;5;124;03m\"\"\"Return the Python representation of ``s`` (a ``str`` instance\u001b[39;00m\n\u001b[1;32m    334\u001b[0m \u001b[38;5;124;03m    containing a JSON document).\u001b[39;00m\n\u001b[1;32m    335\u001b[0m \n\u001b[1;32m    336\u001b[0m \u001b[38;5;124;03m    \"\"\"\u001b[39;00m\n\u001b[0;32m--> 337\u001b[0m     obj, end \u001b[38;5;241m=\u001b[39m \u001b[38;5;28mself\u001b[39m\u001b[38;5;241m.\u001b[39mraw_decode(s, idx\u001b[38;5;241m=\u001b[39m_w(s, \u001b[38;5;241m0\u001b[39m)\u001b[38;5;241m.\u001b[39mend())\n\u001b[1;32m    338\u001b[0m     end \u001b[38;5;241m=\u001b[39m _w(s, end)\u001b[38;5;241m.\u001b[39mend()\n\u001b[1;32m    339\u001b[0m     \u001b[38;5;28;01mif\u001b[39;00m end \u001b[38;5;241m!=\u001b[39m \u001b[38;5;28mlen\u001b[39m(s):\n",
      "File \u001b[0;32m~/anaconda3/lib/python3.11/json/decoder.py:355\u001b[0m, in \u001b[0;36mJSONDecoder.raw_decode\u001b[0;34m(self, s, idx)\u001b[0m\n\u001b[1;32m    353\u001b[0m     obj, end \u001b[38;5;241m=\u001b[39m \u001b[38;5;28mself\u001b[39m\u001b[38;5;241m.\u001b[39mscan_once(s, idx)\n\u001b[1;32m    354\u001b[0m \u001b[38;5;28;01mexcept\u001b[39;00m \u001b[38;5;167;01mStopIteration\u001b[39;00m \u001b[38;5;28;01mas\u001b[39;00m err:\n\u001b[0;32m--> 355\u001b[0m     \u001b[38;5;28;01mraise\u001b[39;00m JSONDecodeError(\u001b[38;5;124m\"\u001b[39m\u001b[38;5;124mExpecting value\u001b[39m\u001b[38;5;124m\"\u001b[39m, s, err\u001b[38;5;241m.\u001b[39mvalue) \u001b[38;5;28;01mfrom\u001b[39;00m \u001b[38;5;28;01mNone\u001b[39;00m\n\u001b[1;32m    356\u001b[0m \u001b[38;5;28;01mreturn\u001b[39;00m obj, end\n",
      "\u001b[0;31mJSONDecodeError\u001b[0m: Expecting value: line 1 column 12 (char 11)"
     ]
    }
   ],
   "source": [
    "#Display\n",
    "\n",
    "a_file = open(\"Parsed_Resume.json\", \"r\")\n",
    "a_json = json.load(a_file)\n",
    "pretty_json = json.dumps(a_json, indent=4)\n",
    "a_file.close()\n",
    "print(pretty_json)\n",
    "\n"
   ]
  },
  {
   "cell_type": "code",
   "execution_count": null,
   "id": "b17fce62",
   "metadata": {},
   "outputs": [],
   "source": []
  }
 ],
 "metadata": {
  "kernelspec": {
   "display_name": "Python 3 (ipykernel)",
   "language": "python",
   "name": "python3"
  },
  "language_info": {
   "codemirror_mode": {
    "name": "ipython",
    "version": 3
   },
   "file_extension": ".py",
   "mimetype": "text/x-python",
   "name": "python",
   "nbconvert_exporter": "python",
   "pygments_lexer": "ipython3",
   "version": "3.11.5"
  }
 },
 "nbformat": 4,
 "nbformat_minor": 5
}
